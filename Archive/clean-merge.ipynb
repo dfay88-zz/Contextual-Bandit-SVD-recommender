{
 "cells": [
  {
   "cell_type": "markdown",
   "metadata": {
    "deletable": true,
    "editable": true
   },
   "source": [
    "# Clean Data"
   ]
  },
  {
   "cell_type": "code",
   "execution_count": 3,
   "metadata": {
    "collapsed": false,
    "deletable": true,
    "editable": true
   },
   "outputs": [],
   "source": [
    "# Import packages and datasets\n",
    "import pandas as pd\n",
    "import geopandas as gpd\n",
    "import numpy as np\n",
    "linked = pd.read_csv('../../fm-lm-demand-simulation/data/external/LINKED_Public.csv', low_memory=False)\n",
    "household = pd.read_csv('../../fm-lm-demand-simulation/data/external/HH_Public.csv', low_memory=False)\n",
    "person = pd.read_csv('../../fm-lm-demand-simulation/data/external/PER_Public.csv')"
   ]
  },
  {
   "cell_type": "markdown",
   "metadata": {
    "deletable": true,
    "editable": true
   },
   "source": [
    "### Feature selected for analysis:\n",
    "\n",
    "LINKED_Public:\n",
    " \n",
    "- SAMPN (household identifier)\n",
    "- PERNO (person number)\n",
    "- PERTYPE (person type code)\n",
    "- ORIG_HOME (if home is origin)\n",
    "- DEST_HOME (if home is destination)\n",
    "- DOW (day of week of travel)\n",
    "- OTAZ (origin TAZ - NYMTC; WGS84) -- drop 0 Location Outside of NYBPM area\n",
    "- DTAZ (destination TAZ - NYMTC; WGS84) -- drop 0 Location Outside of NYBPM area\n",
    "- OTPURP_AGG (origin primary trip purpose)\n",
    "- DTPURP_AGG (destination primary trip purpose)\n",
    "- LTMODE_AGG (aggregate linked trip mode)\n",
    "- TRP_DEP_HR (trip departure hours)\n",
    "- TRP_DEP_MIN (trip departure minutes)\n",
    "- TRP_ARR_HR (trip arrival hours)\n",
    "- TRP_ARR_MIN (trip arrival minutes)\n",
    "- TRPDUR (trip duration minutes)\n",
    "- ACTDUR (activity duration)\n",
    "- OTRACT (origin tract 2010; WGS84)\n",
    "- DTRACT (destination tract 2010; WGS84)\n",
    "- PMODE1 (primary mode - re-categorized based on PMODE)\n",
    "- PMODE_R (primary mode range)\n",
    "- PMODE_R2 (primary mode range2)\n",
    "- PMODE_R3 (primary mode range3)\n",
    "- WORK_PURP (work vs. non-work)\n",
    "- DTPURP_R (aggregate destination primary trip purpose)\n",
    "- ODTPURP (aggregate Origin to Destination primary trip purpose)\n",
    "- ODTPURP1\n",
    "- ODTPURP2\n",
    "- ODTPURP2_R\n",
    "- PLOC\n",
    "- WORKTRIP (dummy for work trip based on ODTPURP2_R)\n",
    "- TOD_R (time of departure range)\n",
    "- TOD_PEAK (time of departure: non-peak vs. peak)\n",
    "- TRIPDIST_R1 (trip distance range 1)\n",
    "- TRIPDIST_R2 (trip distance range 2)\n",
    "\n",
    "\n",
    "HH_Public:\n",
    "\n",
    "- STYPE (sample type) -- Matched\n",
    "- CTFIP (household residential location) -- NYC five boroughs(36047; 36061; 36081; 36005; 36085)\n",
    "- INCOM (household income) -- drop 99 Refused\n",
    "- DOW (day of travel during the week)\n",
    "- HHVEH (number of household vehicles)\n",
    "\n",
    "\n",
    "PER_Public:\n",
    "\n",
    "- PSAMP (unique Person Identifier)\n",
    "- SAMPN (household identifier)\n",
    "- PERNO (person identifier)\n",
    "- Gender -- drop 9 Refused\n",
    "- AGE_R (age range) -- drop 9 Age not provided\n",
    "- LIC (valid driver’s license) -- drop 8 Don’t Know and 9 Refused\n",
    "- RACE (Race/Ethnicity) -- drop 98 Don’t Know, and 99 Refused\n",
    "- EMPLY (emplyed) -- drop 8 Don’t Know and 9 Refused\n",
    "- WORKS (work status)\n",
    "- WKSTAT (unemployment Status) -- drop 8 Don’t Know and 9 Refused\n",
    "- JOBS (number of jobs)\n",
    "- WDAYS (work days) -- drop 8 Don’t Know and 9 Refused\n",
    "- INDUS (industry)\n",
    "- OCCUP (occupation)\n",
    "- O_OCCUP (other in occupation)\n",
    "- WLOC (work location)\n",
    "- WFIPS (work location county) -- NYC five boroughs(36047; 36061; 36081; 36005; 36085)\n",
    "- WMODE (usual mode of transportation to work) -- drop 98 Don’t Know and 99 Refused\n",
    "- O_WMODE (Other, model of transportation to work)\n",
    "- TTTWS (typical travel time to work) -- drop 999 Refused\n",
    "- CDRIV (as part of job, does/dp drive a household vehicle from work site to work site?) -- drop 8 Don’t Know and 9 Refused\n",
    "- WSTRT (work start time) -- drop 9999 Don’t Know / Refused\n",
    "- WEND (work end time) -- drop 9999 Don’t Know / Refused\n",
    "- STRVR (start time variation) -- drop 7 Other, 8 Don’t Know and 9 Refused\n",
    "- ENDVR (end time variation) -- drop 7 Other, 8 Don’t Know and 9 Refused\n",
    "- STUDE (student status) -- drop 8 DK and 9 RF\n",
    "\n"
   ]
  },
  {
   "cell_type": "code",
   "execution_count": 4,
   "metadata": {
    "collapsed": false,
    "deletable": true,
    "editable": true
   },
   "outputs": [],
   "source": [
    "# Select needed features from datasets\n",
    "linked_clean = linked[['SAMPN', 'PERNO', 'PERTYPE', 'ORIG_HOME', 'DEST_HOME', 'DOW', 'OTAZ', 'DTAZ', 'DTPURP', 'OTPURP_AGG', 'DTPURP_AGG', 'LTMODE_AGG',\n",
    "                       'TRP_DEP_HR', 'TRP_DEP_MIN', 'TRP_ARR_HR', 'TRP_ARR_MIN', 'TRPDUR_R', 'ACTDUR', 'OTRACT', 'DTRACT', 'PMODE1', 'PMODE_R',\n",
    "                       'PMODE_R2', 'PMODE_R3', 'WORK_PURP', 'DTPURP_R', 'ODTPURP', 'ODTPURP1', 'ODTPURP2', 'ODTPURP2_R', 'PLOC', 'WORKTRIP', 'TOD_R',\n",
    "                       'TOD_PEAK', 'TRIPDIST_R1', 'TRIPDIST_R2']]\n",
    "\n",
    "household_clean = household[['SAMPN', 'STYPE', 'CTFIP', 'INCOM_R', 'DOW', 'HHVEH']]\n",
    "\n",
    "person_clean = person[['SAMPN', 'PERNO', 'GENDER', 'AGE_R', 'LIC', 'RELAT', 'RACE', 'EMPLY', 'WORKS', 'WKSTAT', 'JOBS', 'WDAYS', 'INDUS', 'OCCUP',\n",
    "                       'O_OCCUP', 'WLOC', 'WFIPS', 'WMODE', 'O_WMODE', 'TTTWS', 'CDRIV', 'WSTRT', 'WEND', 'STRVR', 'ENDVR', 'STUDE']]"
   ]
  },
  {
   "cell_type": "markdown",
   "metadata": {
    "deletable": true,
    "editable": true
   },
   "source": [
    "# Clean Linked Trips Dataset"
   ]
  },
  {
   "cell_type": "code",
   "execution_count": 5,
   "metadata": {
    "collapsed": false,
    "deletable": true,
    "editable": true
   },
   "outputs": [
    {
     "data": {
      "text/plain": [
       "143925"
      ]
     },
     "execution_count": 5,
     "metadata": {},
     "output_type": "execute_result"
    }
   ],
   "source": [
    "len(linked_clean)"
   ]
  },
  {
   "cell_type": "code",
   "execution_count": 6,
   "metadata": {
    "collapsed": false,
    "deletable": true,
    "editable": true
   },
   "outputs": [
    {
     "data": {
      "text/plain": [
       "SAMPN          False\n",
       "PERNO          False\n",
       "PERTYPE        False\n",
       "ORIG_HOME      False\n",
       "DEST_HOME      False\n",
       "DOW            False\n",
       "OTAZ           False\n",
       "DTAZ           False\n",
       "DTPURP         False\n",
       "OTPURP_AGG     False\n",
       "DTPURP_AGG     False\n",
       "LTMODE_AGG     False\n",
       "TRP_DEP_HR     False\n",
       "TRP_DEP_MIN    False\n",
       "TRP_ARR_HR     False\n",
       "TRP_ARR_MIN    False\n",
       "TRPDUR_R       False\n",
       "ACTDUR         False\n",
       "OTRACT         False\n",
       "DTRACT         False\n",
       "PMODE1         False\n",
       "PMODE_R        False\n",
       "PMODE_R2       False\n",
       "PMODE_R3       False\n",
       "WORK_PURP      False\n",
       "DTPURP_R       False\n",
       "ODTPURP        False\n",
       "ODTPURP1       False\n",
       "ODTPURP2       False\n",
       "ODTPURP2_R     False\n",
       "PLOC            True\n",
       "WORKTRIP       False\n",
       "TOD_R          False\n",
       "TOD_PEAK        True\n",
       "TRIPDIST_R1     True\n",
       "TRIPDIST_R2     True\n",
       "dtype: bool"
      ]
     },
     "execution_count": 6,
     "metadata": {},
     "output_type": "execute_result"
    }
   ],
   "source": [
    "linked_clean.isnull().any()"
   ]
  },
  {
   "cell_type": "code",
   "execution_count": 7,
   "metadata": {
    "collapsed": false,
    "deletable": true,
    "editable": true
   },
   "outputs": [],
   "source": [
    "linked_clean = linked_clean[np.isfinite(linked_clean['TOD_PEAK'])]\n",
    "linked_clean = linked_clean[np.isfinite(linked_clean['TRIPDIST_R1'])]\n",
    "linked_clean = linked_clean[np.isfinite(linked_clean['TRIPDIST_R2'])]\n"
   ]
  },
  {
   "cell_type": "code",
   "execution_count": 8,
   "metadata": {
    "collapsed": false,
    "deletable": true,
    "editable": true
   },
   "outputs": [
    {
     "data": {
      "text/plain": [
       "140670"
      ]
     },
     "execution_count": 8,
     "metadata": {},
     "output_type": "execute_result"
    }
   ],
   "source": [
    "len(linked_clean)"
   ]
  },
  {
   "cell_type": "code",
   "execution_count": 9,
   "metadata": {
    "collapsed": false,
    "deletable": true,
    "editable": true
   },
   "outputs": [
    {
     "data": {
      "text/plain": [
       "SAMPN          False\n",
       "PERNO          False\n",
       "PERTYPE        False\n",
       "ORIG_HOME      False\n",
       "DEST_HOME      False\n",
       "DOW            False\n",
       "OTAZ           False\n",
       "DTAZ           False\n",
       "DTPURP         False\n",
       "OTPURP_AGG     False\n",
       "DTPURP_AGG     False\n",
       "LTMODE_AGG     False\n",
       "TRP_DEP_HR     False\n",
       "TRP_DEP_MIN    False\n",
       "TRP_ARR_HR     False\n",
       "TRP_ARR_MIN    False\n",
       "TRPDUR_R       False\n",
       "ACTDUR         False\n",
       "OTRACT         False\n",
       "DTRACT         False\n",
       "PMODE1         False\n",
       "PMODE_R        False\n",
       "PMODE_R2       False\n",
       "PMODE_R3       False\n",
       "WORK_PURP      False\n",
       "DTPURP_R       False\n",
       "ODTPURP        False\n",
       "ODTPURP1       False\n",
       "ODTPURP2       False\n",
       "ODTPURP2_R     False\n",
       "PLOC            True\n",
       "WORKTRIP       False\n",
       "TOD_R          False\n",
       "TOD_PEAK       False\n",
       "TRIPDIST_R1    False\n",
       "TRIPDIST_R2    False\n",
       "dtype: bool"
      ]
     },
     "execution_count": 9,
     "metadata": {},
     "output_type": "execute_result"
    }
   ],
   "source": [
    "linked_clean.isnull().any()"
   ]
  },
  {
   "cell_type": "code",
   "execution_count": 10,
   "metadata": {
    "collapsed": false,
    "deletable": true,
    "editable": true
   },
   "outputs": [],
   "source": [
    "linked_clean = linked_clean.loc[linked_clean['OTAZ'] != 0]"
   ]
  },
  {
   "cell_type": "code",
   "execution_count": 11,
   "metadata": {
    "collapsed": false,
    "deletable": true,
    "editable": true
   },
   "outputs": [],
   "source": [
    "linked_clean = linked_clean.loc[linked_clean['DTAZ'] != 0]"
   ]
  },
  {
   "cell_type": "code",
   "execution_count": 12,
   "metadata": {
    "collapsed": true,
    "deletable": true,
    "editable": true
   },
   "outputs": [],
   "source": [
    "linked_clean = linked_clean.loc[linked_clean['PMODE1'] != 97]\n",
    "linked_clean = linked_clean.loc[linked_clean['PMODE_R'] != 97]\n",
    "linked_clean = linked_clean.loc[linked_clean['PMODE_R2'] != 97]\n",
    "linked_clean = linked_clean.loc[linked_clean['PMODE_R3'] != 97]"
   ]
  },
  {
   "cell_type": "code",
   "execution_count": 13,
   "metadata": {
    "collapsed": false,
    "deletable": true,
    "editable": true
   },
   "outputs": [
    {
     "data": {
      "text/plain": [
       "119333"
      ]
     },
     "execution_count": 13,
     "metadata": {},
     "output_type": "execute_result"
    }
   ],
   "source": [
    "len(linked_clean)"
   ]
  },
  {
   "cell_type": "code",
   "execution_count": 14,
   "metadata": {
    "collapsed": false,
    "deletable": true,
    "editable": true
   },
   "outputs": [
    {
     "data": {
      "text/html": [
       "<div>\n",
       "<table border=\"1\" class=\"dataframe\">\n",
       "  <thead>\n",
       "    <tr style=\"text-align: right;\">\n",
       "      <th></th>\n",
       "      <th>SAMPN</th>\n",
       "      <th>PERNO</th>\n",
       "      <th>PERTYPE</th>\n",
       "      <th>ORIG_HOME</th>\n",
       "      <th>DEST_HOME</th>\n",
       "      <th>DOW</th>\n",
       "      <th>OTAZ</th>\n",
       "      <th>DTAZ</th>\n",
       "      <th>DTPURP</th>\n",
       "      <th>OTPURP_AGG</th>\n",
       "      <th>...</th>\n",
       "      <th>ODTPURP</th>\n",
       "      <th>ODTPURP1</th>\n",
       "      <th>ODTPURP2</th>\n",
       "      <th>ODTPURP2_R</th>\n",
       "      <th>PLOC</th>\n",
       "      <th>WORKTRIP</th>\n",
       "      <th>TOD_R</th>\n",
       "      <th>TOD_PEAK</th>\n",
       "      <th>TRIPDIST_R1</th>\n",
       "      <th>TRIPDIST_R2</th>\n",
       "    </tr>\n",
       "  </thead>\n",
       "  <tbody>\n",
       "    <tr>\n",
       "      <th>0</th>\n",
       "      <td>3000056</td>\n",
       "      <td>1</td>\n",
       "      <td>2</td>\n",
       "      <td>1</td>\n",
       "      <td>0</td>\n",
       "      <td>3</td>\n",
       "      <td>2626</td>\n",
       "      <td>2627</td>\n",
       "      <td>24</td>\n",
       "      <td>0</td>\n",
       "      <td>...</td>\n",
       "      <td>3</td>\n",
       "      <td>3</td>\n",
       "      <td>4</td>\n",
       "      <td>3</td>\n",
       "      <td>1.0</td>\n",
       "      <td>2</td>\n",
       "      <td>1</td>\n",
       "      <td>1.0</td>\n",
       "      <td>2.0</td>\n",
       "      <td>3.0</td>\n",
       "    </tr>\n",
       "    <tr>\n",
       "      <th>1</th>\n",
       "      <td>3000056</td>\n",
       "      <td>1</td>\n",
       "      <td>2</td>\n",
       "      <td>0</td>\n",
       "      <td>1</td>\n",
       "      <td>3</td>\n",
       "      <td>2627</td>\n",
       "      <td>2626</td>\n",
       "      <td>3</td>\n",
       "      <td>9</td>\n",
       "      <td>...</td>\n",
       "      <td>6</td>\n",
       "      <td>10</td>\n",
       "      <td>4</td>\n",
       "      <td>3</td>\n",
       "      <td>NaN</td>\n",
       "      <td>2</td>\n",
       "      <td>1</td>\n",
       "      <td>1.0</td>\n",
       "      <td>2.0</td>\n",
       "      <td>3.0</td>\n",
       "    </tr>\n",
       "    <tr>\n",
       "      <th>2</th>\n",
       "      <td>3000056</td>\n",
       "      <td>1</td>\n",
       "      <td>2</td>\n",
       "      <td>1</td>\n",
       "      <td>0</td>\n",
       "      <td>3</td>\n",
       "      <td>2626</td>\n",
       "      <td>2627</td>\n",
       "      <td>9</td>\n",
       "      <td>0</td>\n",
       "      <td>...</td>\n",
       "      <td>1</td>\n",
       "      <td>1</td>\n",
       "      <td>1</td>\n",
       "      <td>1</td>\n",
       "      <td>1.0</td>\n",
       "      <td>1</td>\n",
       "      <td>2</td>\n",
       "      <td>0.0</td>\n",
       "      <td>2.0</td>\n",
       "      <td>3.0</td>\n",
       "    </tr>\n",
       "    <tr>\n",
       "      <th>3</th>\n",
       "      <td>3000056</td>\n",
       "      <td>1</td>\n",
       "      <td>2</td>\n",
       "      <td>0</td>\n",
       "      <td>1</td>\n",
       "      <td>3</td>\n",
       "      <td>2627</td>\n",
       "      <td>2626</td>\n",
       "      <td>3</td>\n",
       "      <td>1</td>\n",
       "      <td>...</td>\n",
       "      <td>4</td>\n",
       "      <td>8</td>\n",
       "      <td>1</td>\n",
       "      <td>1</td>\n",
       "      <td>NaN</td>\n",
       "      <td>1</td>\n",
       "      <td>2</td>\n",
       "      <td>0.0</td>\n",
       "      <td>2.0</td>\n",
       "      <td>3.0</td>\n",
       "    </tr>\n",
       "    <tr>\n",
       "      <th>4</th>\n",
       "      <td>3000056</td>\n",
       "      <td>1</td>\n",
       "      <td>2</td>\n",
       "      <td>1</td>\n",
       "      <td>0</td>\n",
       "      <td>3</td>\n",
       "      <td>2626</td>\n",
       "      <td>2628</td>\n",
       "      <td>25</td>\n",
       "      <td>0</td>\n",
       "      <td>...</td>\n",
       "      <td>3</td>\n",
       "      <td>3</td>\n",
       "      <td>4</td>\n",
       "      <td>3</td>\n",
       "      <td>1.0</td>\n",
       "      <td>2</td>\n",
       "      <td>3</td>\n",
       "      <td>1.0</td>\n",
       "      <td>2.0</td>\n",
       "      <td>3.0</td>\n",
       "    </tr>\n",
       "  </tbody>\n",
       "</table>\n",
       "<p>5 rows × 36 columns</p>\n",
       "</div>"
      ],
      "text/plain": [
       "     SAMPN  PERNO  PERTYPE  ORIG_HOME  DEST_HOME  DOW  OTAZ  DTAZ  DTPURP  \\\n",
       "0  3000056      1        2          1          0    3  2626  2627      24   \n",
       "1  3000056      1        2          0          1    3  2627  2626       3   \n",
       "2  3000056      1        2          1          0    3  2626  2627       9   \n",
       "3  3000056      1        2          0          1    3  2627  2626       3   \n",
       "4  3000056      1        2          1          0    3  2626  2628      25   \n",
       "\n",
       "   OTPURP_AGG     ...       ODTPURP  ODTPURP1  ODTPURP2  ODTPURP2_R  PLOC  \\\n",
       "0           0     ...             3         3         4           3   1.0   \n",
       "1           9     ...             6        10         4           3   NaN   \n",
       "2           0     ...             1         1         1           1   1.0   \n",
       "3           1     ...             4         8         1           1   NaN   \n",
       "4           0     ...             3         3         4           3   1.0   \n",
       "\n",
       "   WORKTRIP  TOD_R  TOD_PEAK  TRIPDIST_R1  TRIPDIST_R2  \n",
       "0         2      1       1.0          2.0          3.0  \n",
       "1         2      1       1.0          2.0          3.0  \n",
       "2         1      2       0.0          2.0          3.0  \n",
       "3         1      2       0.0          2.0          3.0  \n",
       "4         2      3       1.0          2.0          3.0  \n",
       "\n",
       "[5 rows x 36 columns]"
      ]
     },
     "execution_count": 14,
     "metadata": {},
     "output_type": "execute_result"
    }
   ],
   "source": [
    "linked_clean.head()"
   ]
  },
  {
   "cell_type": "code",
   "execution_count": 15,
   "metadata": {
    "collapsed": false,
    "deletable": true,
    "editable": true
   },
   "outputs": [],
   "source": [
    "linked_clean.to_csv('../../fm-lm-demand-simulation/data/processed/linked_trips.csv')"
   ]
  },
  {
   "cell_type": "markdown",
   "metadata": {
    "collapsed": true,
    "deletable": true,
    "editable": true
   },
   "source": [
    "# Clean Household Dataset"
   ]
  },
  {
   "cell_type": "code",
   "execution_count": 16,
   "metadata": {
    "collapsed": false,
    "deletable": true,
    "editable": true
   },
   "outputs": [
    {
     "data": {
      "text/plain": [
       "18965"
      ]
     },
     "execution_count": 16,
     "metadata": {},
     "output_type": "execute_result"
    }
   ],
   "source": [
    "len(household_clean)"
   ]
  },
  {
   "cell_type": "code",
   "execution_count": 17,
   "metadata": {
    "collapsed": false,
    "deletable": true,
    "editable": true
   },
   "outputs": [
    {
     "data": {
      "text/plain": [
       "SAMPN      False\n",
       "STYPE      False\n",
       "CTFIP      False\n",
       "INCOM_R    False\n",
       "DOW        False\n",
       "HHVEH      False\n",
       "dtype: bool"
      ]
     },
     "execution_count": 17,
     "metadata": {},
     "output_type": "execute_result"
    }
   ],
   "source": [
    "household_clean.isnull().any()"
   ]
  },
  {
   "cell_type": "code",
   "execution_count": 18,
   "metadata": {
    "collapsed": false,
    "deletable": true,
    "editable": true
   },
   "outputs": [],
   "source": [
    "household_clean = household_clean.loc[household_clean['INCOM_R'] != 99]\n"
   ]
  },
  {
   "cell_type": "code",
   "execution_count": 19,
   "metadata": {
    "collapsed": false,
    "deletable": true,
    "editable": true
   },
   "outputs": [
    {
     "data": {
      "text/plain": [
       "18965"
      ]
     },
     "execution_count": 19,
     "metadata": {},
     "output_type": "execute_result"
    }
   ],
   "source": [
    "len(household_clean)"
   ]
  },
  {
   "cell_type": "code",
   "execution_count": 20,
   "metadata": {
    "collapsed": false,
    "deletable": true,
    "editable": true
   },
   "outputs": [
    {
     "data": {
      "text/html": [
       "<div>\n",
       "<table border=\"1\" class=\"dataframe\">\n",
       "  <thead>\n",
       "    <tr style=\"text-align: right;\">\n",
       "      <th></th>\n",
       "      <th>SAMPN</th>\n",
       "      <th>STYPE</th>\n",
       "      <th>CTFIP</th>\n",
       "      <th>INCOM_R</th>\n",
       "      <th>DOW</th>\n",
       "      <th>HHVEH</th>\n",
       "    </tr>\n",
       "  </thead>\n",
       "  <tbody>\n",
       "    <tr>\n",
       "      <th>0</th>\n",
       "      <td>3000056</td>\n",
       "      <td>1</td>\n",
       "      <td>9001</td>\n",
       "      <td>3</td>\n",
       "      <td>3</td>\n",
       "      <td>3</td>\n",
       "    </tr>\n",
       "    <tr>\n",
       "      <th>1</th>\n",
       "      <td>3000128</td>\n",
       "      <td>1</td>\n",
       "      <td>36027</td>\n",
       "      <td>2</td>\n",
       "      <td>4</td>\n",
       "      <td>2</td>\n",
       "    </tr>\n",
       "    <tr>\n",
       "      <th>2</th>\n",
       "      <td>3000139</td>\n",
       "      <td>1</td>\n",
       "      <td>34027</td>\n",
       "      <td>9</td>\n",
       "      <td>2</td>\n",
       "      <td>2</td>\n",
       "    </tr>\n",
       "    <tr>\n",
       "      <th>3</th>\n",
       "      <td>3000146</td>\n",
       "      <td>1</td>\n",
       "      <td>34027</td>\n",
       "      <td>3</td>\n",
       "      <td>2</td>\n",
       "      <td>1</td>\n",
       "    </tr>\n",
       "    <tr>\n",
       "      <th>4</th>\n",
       "      <td>3000157</td>\n",
       "      <td>1</td>\n",
       "      <td>34017</td>\n",
       "      <td>1</td>\n",
       "      <td>3</td>\n",
       "      <td>0</td>\n",
       "    </tr>\n",
       "  </tbody>\n",
       "</table>\n",
       "</div>"
      ],
      "text/plain": [
       "     SAMPN  STYPE  CTFIP  INCOM_R  DOW  HHVEH\n",
       "0  3000056      1   9001        3    3      3\n",
       "1  3000128      1  36027        2    4      2\n",
       "2  3000139      1  34027        9    2      2\n",
       "3  3000146      1  34027        3    2      1\n",
       "4  3000157      1  34017        1    3      0"
      ]
     },
     "execution_count": 20,
     "metadata": {},
     "output_type": "execute_result"
    }
   ],
   "source": [
    "household_clean.head()"
   ]
  },
  {
   "cell_type": "code",
   "execution_count": 21,
   "metadata": {
    "collapsed": false,
    "deletable": true,
    "editable": true
   },
   "outputs": [],
   "source": [
    "household_clean.to_csv('../../fm-lm-demand-simulation/data/processed/household.csv')"
   ]
  },
  {
   "cell_type": "markdown",
   "metadata": {
    "deletable": true,
    "editable": true
   },
   "source": [
    "# Clean Person Dataset"
   ]
  },
  {
   "cell_type": "code",
   "execution_count": 22,
   "metadata": {
    "collapsed": false,
    "deletable": true,
    "editable": true
   },
   "outputs": [
    {
     "data": {
      "text/plain": [
       "43558"
      ]
     },
     "execution_count": 22,
     "metadata": {},
     "output_type": "execute_result"
    }
   ],
   "source": [
    "len(person_clean)"
   ]
  },
  {
   "cell_type": "code",
   "execution_count": 23,
   "metadata": {
    "collapsed": false,
    "deletable": true,
    "editable": true
   },
   "outputs": [
    {
     "data": {
      "text/plain": [
       "SAMPN      False\n",
       "PERNO      False\n",
       "GENDER     False\n",
       "AGE_R      False\n",
       "LIC         True\n",
       "RELAT      False\n",
       "RACE       False\n",
       "EMPLY       True\n",
       "WORKS       True\n",
       "WKSTAT      True\n",
       "JOBS        True\n",
       "WDAYS       True\n",
       "INDUS       True\n",
       "OCCUP       True\n",
       "O_OCCUP    False\n",
       "WLOC        True\n",
       "WFIPS       True\n",
       "WMODE       True\n",
       "O_WMODE    False\n",
       "TTTWS       True\n",
       "CDRIV       True\n",
       "WSTRT      False\n",
       "WEND       False\n",
       "STRVR       True\n",
       "ENDVR       True\n",
       "STUDE      False\n",
       "dtype: bool"
      ]
     },
     "execution_count": 23,
     "metadata": {},
     "output_type": "execute_result"
    }
   ],
   "source": [
    "person_clean.isnull().any()"
   ]
  },
  {
   "cell_type": "code",
   "execution_count": 24,
   "metadata": {
    "collapsed": false,
    "deletable": true,
    "editable": true
   },
   "outputs": [
    {
     "name": "stderr",
     "output_type": "stream",
     "text": [
      "/Users/Danny1/anaconda/lib/python2.7/site-packages/pandas/core/indexing.py:477: SettingWithCopyWarning: \n",
      "A value is trying to be set on a copy of a slice from a DataFrame.\n",
      "Try using .loc[row_indexer,col_indexer] = value instead\n",
      "\n",
      "See the caveats in the documentation: http://pandas.pydata.org/pandas-docs/stable/indexing.html#indexing-view-versus-copy\n",
      "  self.obj[item] = s\n"
     ]
    }
   ],
   "source": [
    "person_clean.loc[person_clean.AGE_R == 'Younger than 16 years', 'LIC'] = 'Not Applicable'\n",
    "person_clean.loc[person_clean.AGE_R == 'Younger than 16 years', 'EMPLY'] = 'Not Applicable'\n",
    "person_clean.loc[person_clean.AGE_R == 'Younger than 16 years', 'WORKS'] = 'Not Applicable'\n",
    "person_clean.loc[person_clean.AGE_R == 'Younger than 16 years', 'WKSTAT'] = 'Not Applicable'\n",
    "person_clean.loc[person_clean.AGE_R == 'Younger than 16 years', 'JOBS'] = 'Not Applicable'\n",
    "person_clean.loc[person_clean.AGE_R == 'Younger than 16 years', 'WDAYS'] = 'Not Applicable'\n",
    "person_clean.loc[person_clean.AGE_R == 'Younger than 16 years', 'INDUS'] = 'Not Applicable'\n",
    "person_clean.loc[person_clean.AGE_R == 'Younger than 16 years', 'OCCUP'] = 'Not Applicable'\n",
    "person_clean.loc[person_clean.AGE_R == 'Younger than 16 years', 'O_OCCUP'] = 'Not Applicable'\n",
    "person_clean.loc[person_clean.AGE_R == 'Younger than 16 years', 'WLOC'] = 'Not Applicable'\n",
    "person_clean.loc[person_clean.AGE_R == 'Younger than 16 years', 'WFIPS'] = 'Not Applicable'\n",
    "person_clean.loc[person_clean.AGE_R == 'Younger than 16 years', 'WMODE'] = 'Not Applicable'\n",
    "person_clean.loc[person_clean.AGE_R == 'Younger than 16 years', 'O_WMODE'] = 'Not Applicable'\n",
    "person_clean.loc[person_clean.AGE_R == 'Younger than 16 years', 'TTTWS'] = 'Not Applicable'\n",
    "person_clean.loc[person_clean.AGE_R == 'Younger than 16 years', 'CDRIV'] = 'Not Applicable'\n",
    "person_clean.loc[person_clean.AGE_R == 'Younger than 16 years', 'WSTRT'] = 'Not Applicable'\n",
    "person_clean.loc[person_clean.AGE_R == 'Younger than 16 years', 'WEND'] = 'Not Applicable'\n",
    "person_clean.loc[person_clean.AGE_R == 'Younger than 16 years', 'ENDVR'] = 'Not Applicable'\n",
    "person_clean.loc[person_clean.AGE_R == 'Younger than 16 years', 'STRVR'] = 'Not Applicable'\n"
   ]
  },
  {
   "cell_type": "code",
   "execution_count": 25,
   "metadata": {
    "collapsed": true,
    "deletable": true,
    "editable": true
   },
   "outputs": [],
   "source": [
    "person_clean.loc[person_clean.WORKS == 'Works', 'WKSTAT'] = 'Employed'\n",
    "person_clean.loc[person_clean.WORKS == 'Not a Worker', 'JOBS'] = 'Not Applicable'\n",
    "person_clean.loc[person_clean.WORKS == 'Not a Worker', 'WDAYS'] = 'Not Applicable'\n",
    "person_clean.loc[person_clean.WORKS == 'Not a Worker', 'INDUS'] = 'Not Applicable'\n",
    "person_clean.loc[person_clean.WORKS == 'Not a Worker', 'OCCUP'] = 'Not Applicable'\n",
    "person_clean.loc[person_clean.WORKS == 'Not a Worker', 'O_OCCUP'] = 'Not Applicable'\n",
    "person_clean.loc[person_clean.WORKS == 'Not a Worker', 'WLOC'] = 'Not Applicable'\n",
    "person_clean.loc[person_clean.WORKS == 'Not a Worker', 'WFIPS'] = 'Not Applicable'\n",
    "person_clean.loc[person_clean.WORKS == 'Not a Worker', 'WMODE'] = 'Not Applicable'\n",
    "person_clean.loc[person_clean.WORKS == 'Not a Worker', 'TTTWS'] = 'Not Applicable'\n",
    "person_clean.loc[person_clean.WORKS == 'Not a Worker', 'CDRIV'] = 'Not Applicable'\n",
    "person_clean.loc[person_clean.WORKS == 'Not a Worker', 'ENDVR'] = 'Not Applicable'\n",
    "person_clean.loc[person_clean.WORKS == 'Not a Worker', 'STRVR'] = 'Not Applicable'"
   ]
  },
  {
   "cell_type": "code",
   "execution_count": 26,
   "metadata": {
    "collapsed": false,
    "deletable": true,
    "editable": true
   },
   "outputs": [
    {
     "data": {
      "text/plain": [
       "SAMPN      False\n",
       "PERNO      False\n",
       "GENDER     False\n",
       "AGE_R      False\n",
       "LIC         True\n",
       "RELAT      False\n",
       "RACE       False\n",
       "EMPLY       True\n",
       "WORKS       True\n",
       "WKSTAT      True\n",
       "JOBS        True\n",
       "WDAYS       True\n",
       "INDUS       True\n",
       "OCCUP       True\n",
       "O_OCCUP    False\n",
       "WLOC        True\n",
       "WFIPS       True\n",
       "WMODE       True\n",
       "O_WMODE    False\n",
       "TTTWS       True\n",
       "CDRIV       True\n",
       "WSTRT      False\n",
       "WEND       False\n",
       "STRVR       True\n",
       "ENDVR       True\n",
       "STUDE      False\n",
       "dtype: bool"
      ]
     },
     "execution_count": 26,
     "metadata": {},
     "output_type": "execute_result"
    }
   ],
   "source": [
    "person_clean.isnull().any()"
   ]
  },
  {
   "cell_type": "code",
   "execution_count": 27,
   "metadata": {
    "collapsed": false,
    "deletable": true,
    "editable": true
   },
   "outputs": [
    {
     "data": {
      "text/plain": [
       "43558"
      ]
     },
     "execution_count": 27,
     "metadata": {},
     "output_type": "execute_result"
    }
   ],
   "source": [
    "len(person_clean)"
   ]
  },
  {
   "cell_type": "code",
   "execution_count": 28,
   "metadata": {
    "collapsed": false,
    "deletable": true,
    "editable": true
   },
   "outputs": [],
   "source": [
    "person_clean = person_clean.loc[person_clean['GENDER'] != 'RF']\n",
    "person_clean = person_clean.loc[person_clean['AGE_R'] != 'Age not provided']\n",
    "person_clean = person_clean.loc[person_clean['LIC'] != 'RF']\n",
    "person_clean = person_clean.loc[person_clean['LIC'] != 'DK']\n",
    "person_clean = person_clean.loc[person_clean['RACE'] != 'RF']\n",
    "person_clean = person_clean.loc[person_clean['RACE'] != 'DK']\n",
    "person_clean = person_clean.loc[person_clean['EMPLY'] != 'RF']\n",
    "person_clean = person_clean.loc[person_clean['EMPLY'] != 'DK']\n",
    "person_clean = person_clean.loc[person_clean['WKSTAT'] != 'RF']\n",
    "person_clean = person_clean.loc[person_clean['WKSTAT'] != 'DK']\n",
    "person_clean = person_clean.loc[person_clean['WDAYS'] != 'RF']\n",
    "person_clean = person_clean.loc[person_clean['WDAYS'] != 'DK']\n",
    "person_clean = person_clean.loc[person_clean['WMODE'] != 'RF']\n",
    "person_clean = person_clean.loc[person_clean['WMODE'] != 'DK']\n",
    "person_clean = person_clean.loc[person_clean['TTTWS'] != 'RF']\n",
    "person_clean = person_clean.loc[person_clean['CDRIV'] != 'RF']\n",
    "person_clean = person_clean.loc[person_clean['CDRIV'] != 'DK']\n",
    "person_clean = person_clean.loc[person_clean['WSTRT'] != 'RF']\n",
    "person_clean = person_clean.loc[person_clean['WSTRT'] != 'DK']\n",
    "person_clean = person_clean.loc[person_clean['WEND'] != 'RF']\n",
    "person_clean = person_clean.loc[person_clean['WEND'] != 'DK']\n",
    "person_clean = person_clean.loc[person_clean['STRVR'] != 'RF']\n",
    "person_clean = person_clean.loc[person_clean['STRVR'] != 'DK']\n",
    "person_clean = person_clean.loc[person_clean['ENDVR'] != 'RF']\n",
    "person_clean = person_clean.loc[person_clean['ENDVR'] != 'DK']\n",
    "person_clean = person_clean.loc[person_clean['STUDE'] != 'RF']\n",
    "person_clean = person_clean.loc[person_clean['STUDE'] != 'DK']\n"
   ]
  },
  {
   "cell_type": "code",
   "execution_count": 29,
   "metadata": {
    "collapsed": false,
    "deletable": true,
    "editable": true
   },
   "outputs": [
    {
     "data": {
      "text/plain": [
       "40542"
      ]
     },
     "execution_count": 29,
     "metadata": {},
     "output_type": "execute_result"
    }
   ],
   "source": [
    "len(person_clean)"
   ]
  },
  {
   "cell_type": "code",
   "execution_count": 30,
   "metadata": {
    "collapsed": false,
    "deletable": true,
    "editable": true
   },
   "outputs": [
    {
     "data": {
      "text/plain": [
       "SAMPN         0\n",
       "PERNO         0\n",
       "GENDER        0\n",
       "AGE_R         0\n",
       "LIC           0\n",
       "RELAT         0\n",
       "RACE          0\n",
       "EMPLY         0\n",
       "WORKS         0\n",
       "WKSTAT        0\n",
       "JOBS          0\n",
       "WDAYS         0\n",
       "INDUS         0\n",
       "OCCUP         0\n",
       "O_OCCUP       0\n",
       "WLOC          0\n",
       "WFIPS      1886\n",
       "WMODE      1886\n",
       "O_WMODE       0\n",
       "TTTWS      1886\n",
       "CDRIV      5663\n",
       "WSTRT         0\n",
       "WEND          0\n",
       "STRVR      1886\n",
       "ENDVR      1886\n",
       "STUDE         0\n",
       "dtype: int64"
      ]
     },
     "execution_count": 30,
     "metadata": {},
     "output_type": "execute_result"
    }
   ],
   "source": [
    "person_clean.isnull().sum()"
   ]
  },
  {
   "cell_type": "code",
   "execution_count": 31,
   "metadata": {
    "collapsed": false,
    "deletable": true,
    "editable": true
   },
   "outputs": [
    {
     "data": {
      "text/html": [
       "<div>\n",
       "<table border=\"1\" class=\"dataframe\">\n",
       "  <thead>\n",
       "    <tr style=\"text-align: right;\">\n",
       "      <th></th>\n",
       "      <th>SAMPN</th>\n",
       "      <th>PERNO</th>\n",
       "      <th>GENDER</th>\n",
       "      <th>AGE_R</th>\n",
       "      <th>LIC</th>\n",
       "      <th>RELAT</th>\n",
       "      <th>RACE</th>\n",
       "      <th>EMPLY</th>\n",
       "      <th>WORKS</th>\n",
       "      <th>WKSTAT</th>\n",
       "      <th>...</th>\n",
       "      <th>WFIPS</th>\n",
       "      <th>WMODE</th>\n",
       "      <th>O_WMODE</th>\n",
       "      <th>TTTWS</th>\n",
       "      <th>CDRIV</th>\n",
       "      <th>WSTRT</th>\n",
       "      <th>WEND</th>\n",
       "      <th>STRVR</th>\n",
       "      <th>ENDVR</th>\n",
       "      <th>STUDE</th>\n",
       "    </tr>\n",
       "  </thead>\n",
       "  <tbody>\n",
       "    <tr>\n",
       "      <th>0</th>\n",
       "      <td>3000056</td>\n",
       "      <td>1</td>\n",
       "      <td>Female</td>\n",
       "      <td>35-54 years</td>\n",
       "      <td>Yes</td>\n",
       "      <td>Self</td>\n",
       "      <td>White</td>\n",
       "      <td>Yes</td>\n",
       "      <td>Works</td>\n",
       "      <td>Employed</td>\n",
       "      <td>...</td>\n",
       "      <td>Fairfield</td>\n",
       "      <td>Auto Passenger</td>\n",
       "      <td></td>\n",
       "      <td>8</td>\n",
       "      <td>No</td>\n",
       "      <td>100</td>\n",
       "      <td>300</td>\n",
       "      <td>Start Time Cannot Vary</td>\n",
       "      <td>16 to 30 Minutes</td>\n",
       "      <td>No</td>\n",
       "    </tr>\n",
       "    <tr>\n",
       "      <th>1</th>\n",
       "      <td>3000056</td>\n",
       "      <td>2</td>\n",
       "      <td>Male</td>\n",
       "      <td>35-54 years</td>\n",
       "      <td>Yes</td>\n",
       "      <td>Spouse/Partner</td>\n",
       "      <td>White</td>\n",
       "      <td>Yes</td>\n",
       "      <td>Works</td>\n",
       "      <td>Employed</td>\n",
       "      <td>...</td>\n",
       "      <td>Bergen</td>\n",
       "      <td>Auto Passenger</td>\n",
       "      <td></td>\n",
       "      <td>90</td>\n",
       "      <td>No</td>\n",
       "      <td>730</td>\n",
       "      <td>1900</td>\n",
       "      <td>Within 15 Minutes or Less</td>\n",
       "      <td>More than 1 Hour</td>\n",
       "      <td>No</td>\n",
       "    </tr>\n",
       "    <tr>\n",
       "      <th>2</th>\n",
       "      <td>3000056</td>\n",
       "      <td>3</td>\n",
       "      <td>Male</td>\n",
       "      <td>19-24 years</td>\n",
       "      <td>Yes</td>\n",
       "      <td>Son/Daughter</td>\n",
       "      <td>White</td>\n",
       "      <td>Yes</td>\n",
       "      <td>Works</td>\n",
       "      <td>Employed</td>\n",
       "      <td>...</td>\n",
       "      <td>Fairfield</td>\n",
       "      <td>Auto Passenger</td>\n",
       "      <td></td>\n",
       "      <td>14</td>\n",
       "      <td>No</td>\n",
       "      <td>1800</td>\n",
       "      <td>2330</td>\n",
       "      <td>More than 1 Hour</td>\n",
       "      <td>More than 1 Hour</td>\n",
       "      <td>Yes - Full Time</td>\n",
       "    </tr>\n",
       "    <tr>\n",
       "      <th>3</th>\n",
       "      <td>3000056</td>\n",
       "      <td>4</td>\n",
       "      <td>Male</td>\n",
       "      <td>16-18 years</td>\n",
       "      <td>Yes</td>\n",
       "      <td>Son/Daughter</td>\n",
       "      <td>White</td>\n",
       "      <td>Yes</td>\n",
       "      <td>Works</td>\n",
       "      <td>Employed</td>\n",
       "      <td>...</td>\n",
       "      <td>Fairfield</td>\n",
       "      <td>Auto Passenger</td>\n",
       "      <td></td>\n",
       "      <td>14</td>\n",
       "      <td>No</td>\n",
       "      <td>1600</td>\n",
       "      <td>2330</td>\n",
       "      <td>More than 1 Hour</td>\n",
       "      <td>More than 1 Hour</td>\n",
       "      <td>Yes - Full Time</td>\n",
       "    </tr>\n",
       "    <tr>\n",
       "      <th>4</th>\n",
       "      <td>3000056</td>\n",
       "      <td>5</td>\n",
       "      <td>Female</td>\n",
       "      <td>Younger than 16 years</td>\n",
       "      <td>Not Applicable</td>\n",
       "      <td>Son/Daughter</td>\n",
       "      <td>White</td>\n",
       "      <td>Not Applicable</td>\n",
       "      <td>Not Applicable</td>\n",
       "      <td>Not Applicable</td>\n",
       "      <td>...</td>\n",
       "      <td>Not Applicable</td>\n",
       "      <td>Not Applicable</td>\n",
       "      <td>Not Applicable</td>\n",
       "      <td>Not Applicable</td>\n",
       "      <td>Not Applicable</td>\n",
       "      <td>Not Applicable</td>\n",
       "      <td>Not Applicable</td>\n",
       "      <td>Not Applicable</td>\n",
       "      <td>Not Applicable</td>\n",
       "      <td>Yes - Full Time</td>\n",
       "    </tr>\n",
       "  </tbody>\n",
       "</table>\n",
       "<p>5 rows × 26 columns</p>\n",
       "</div>"
      ],
      "text/plain": [
       "     SAMPN  PERNO  GENDER                  AGE_R             LIC  \\\n",
       "0  3000056      1  Female            35-54 years             Yes   \n",
       "1  3000056      2    Male            35-54 years             Yes   \n",
       "2  3000056      3    Male            19-24 years             Yes   \n",
       "3  3000056      4    Male            16-18 years             Yes   \n",
       "4  3000056      5  Female  Younger than 16 years  Not Applicable   \n",
       "\n",
       "            RELAT   RACE           EMPLY           WORKS          WKSTAT  \\\n",
       "0            Self  White             Yes           Works        Employed   \n",
       "1  Spouse/Partner  White             Yes           Works        Employed   \n",
       "2    Son/Daughter  White             Yes           Works        Employed   \n",
       "3    Son/Daughter  White             Yes           Works        Employed   \n",
       "4    Son/Daughter  White  Not Applicable  Not Applicable  Not Applicable   \n",
       "\n",
       "        ...                  WFIPS           WMODE         O_WMODE  \\\n",
       "0       ...              Fairfield  Auto Passenger                   \n",
       "1       ...                 Bergen  Auto Passenger                   \n",
       "2       ...              Fairfield  Auto Passenger                   \n",
       "3       ...              Fairfield  Auto Passenger                   \n",
       "4       ...         Not Applicable  Not Applicable  Not Applicable   \n",
       "\n",
       "            TTTWS           CDRIV           WSTRT            WEND  \\\n",
       "0               8              No             100             300   \n",
       "1              90              No             730            1900   \n",
       "2              14              No            1800            2330   \n",
       "3              14              No            1600            2330   \n",
       "4  Not Applicable  Not Applicable  Not Applicable  Not Applicable   \n",
       "\n",
       "                       STRVR             ENDVR            STUDE  \n",
       "0     Start Time Cannot Vary  16 to 30 Minutes               No  \n",
       "1  Within 15 Minutes or Less  More than 1 Hour               No  \n",
       "2           More than 1 Hour  More than 1 Hour  Yes - Full Time  \n",
       "3           More than 1 Hour  More than 1 Hour  Yes - Full Time  \n",
       "4             Not Applicable    Not Applicable  Yes - Full Time  \n",
       "\n",
       "[5 rows x 26 columns]"
      ]
     },
     "execution_count": 31,
     "metadata": {},
     "output_type": "execute_result"
    }
   ],
   "source": [
    "person_clean.head()"
   ]
  },
  {
   "cell_type": "code",
   "execution_count": 32,
   "metadata": {
    "collapsed": true,
    "deletable": true,
    "editable": true
   },
   "outputs": [],
   "source": [
    "person_clean.to_csv('../../fm-lm-demand-simulation/data/processed/person.csv')"
   ]
  },
  {
   "cell_type": "markdown",
   "metadata": {
    "deletable": true,
    "editable": true
   },
   "source": [
    "# Merge Datasets"
   ]
  },
  {
   "cell_type": "code",
   "execution_count": 33,
   "metadata": {
    "collapsed": false,
    "deletable": true,
    "editable": true
   },
   "outputs": [
    {
     "data": {
      "text/html": [
       "<div>\n",
       "<table border=\"1\" class=\"dataframe\">\n",
       "  <thead>\n",
       "    <tr style=\"text-align: right;\">\n",
       "      <th></th>\n",
       "      <th>SAMPN</th>\n",
       "      <th>PERNO</th>\n",
       "      <th>PERTYPE</th>\n",
       "      <th>ORIG_HOME</th>\n",
       "      <th>DEST_HOME</th>\n",
       "      <th>DOW_x</th>\n",
       "      <th>OTAZ</th>\n",
       "      <th>DTAZ</th>\n",
       "      <th>DTPURP</th>\n",
       "      <th>OTPURP_AGG</th>\n",
       "      <th>...</th>\n",
       "      <th>WFIPS</th>\n",
       "      <th>WMODE</th>\n",
       "      <th>O_WMODE</th>\n",
       "      <th>TTTWS</th>\n",
       "      <th>CDRIV</th>\n",
       "      <th>WSTRT</th>\n",
       "      <th>WEND</th>\n",
       "      <th>STRVR</th>\n",
       "      <th>ENDVR</th>\n",
       "      <th>STUDE</th>\n",
       "    </tr>\n",
       "  </thead>\n",
       "  <tbody>\n",
       "    <tr>\n",
       "      <th>0</th>\n",
       "      <td>3000056</td>\n",
       "      <td>1</td>\n",
       "      <td>2</td>\n",
       "      <td>1</td>\n",
       "      <td>0</td>\n",
       "      <td>3</td>\n",
       "      <td>2626</td>\n",
       "      <td>2627</td>\n",
       "      <td>24</td>\n",
       "      <td>0</td>\n",
       "      <td>...</td>\n",
       "      <td>Fairfield</td>\n",
       "      <td>Auto Passenger</td>\n",
       "      <td></td>\n",
       "      <td>8</td>\n",
       "      <td>No</td>\n",
       "      <td>100</td>\n",
       "      <td>300</td>\n",
       "      <td>Start Time Cannot Vary</td>\n",
       "      <td>16 to 30 Minutes</td>\n",
       "      <td>No</td>\n",
       "    </tr>\n",
       "    <tr>\n",
       "      <th>1</th>\n",
       "      <td>3000056</td>\n",
       "      <td>1</td>\n",
       "      <td>2</td>\n",
       "      <td>0</td>\n",
       "      <td>1</td>\n",
       "      <td>3</td>\n",
       "      <td>2627</td>\n",
       "      <td>2626</td>\n",
       "      <td>3</td>\n",
       "      <td>9</td>\n",
       "      <td>...</td>\n",
       "      <td>Fairfield</td>\n",
       "      <td>Auto Passenger</td>\n",
       "      <td></td>\n",
       "      <td>8</td>\n",
       "      <td>No</td>\n",
       "      <td>100</td>\n",
       "      <td>300</td>\n",
       "      <td>Start Time Cannot Vary</td>\n",
       "      <td>16 to 30 Minutes</td>\n",
       "      <td>No</td>\n",
       "    </tr>\n",
       "    <tr>\n",
       "      <th>2</th>\n",
       "      <td>3000056</td>\n",
       "      <td>1</td>\n",
       "      <td>2</td>\n",
       "      <td>1</td>\n",
       "      <td>0</td>\n",
       "      <td>3</td>\n",
       "      <td>2626</td>\n",
       "      <td>2627</td>\n",
       "      <td>9</td>\n",
       "      <td>0</td>\n",
       "      <td>...</td>\n",
       "      <td>Fairfield</td>\n",
       "      <td>Auto Passenger</td>\n",
       "      <td></td>\n",
       "      <td>8</td>\n",
       "      <td>No</td>\n",
       "      <td>100</td>\n",
       "      <td>300</td>\n",
       "      <td>Start Time Cannot Vary</td>\n",
       "      <td>16 to 30 Minutes</td>\n",
       "      <td>No</td>\n",
       "    </tr>\n",
       "    <tr>\n",
       "      <th>3</th>\n",
       "      <td>3000056</td>\n",
       "      <td>1</td>\n",
       "      <td>2</td>\n",
       "      <td>0</td>\n",
       "      <td>1</td>\n",
       "      <td>3</td>\n",
       "      <td>2627</td>\n",
       "      <td>2626</td>\n",
       "      <td>3</td>\n",
       "      <td>1</td>\n",
       "      <td>...</td>\n",
       "      <td>Fairfield</td>\n",
       "      <td>Auto Passenger</td>\n",
       "      <td></td>\n",
       "      <td>8</td>\n",
       "      <td>No</td>\n",
       "      <td>100</td>\n",
       "      <td>300</td>\n",
       "      <td>Start Time Cannot Vary</td>\n",
       "      <td>16 to 30 Minutes</td>\n",
       "      <td>No</td>\n",
       "    </tr>\n",
       "    <tr>\n",
       "      <th>4</th>\n",
       "      <td>3000056</td>\n",
       "      <td>1</td>\n",
       "      <td>2</td>\n",
       "      <td>1</td>\n",
       "      <td>0</td>\n",
       "      <td>3</td>\n",
       "      <td>2626</td>\n",
       "      <td>2628</td>\n",
       "      <td>25</td>\n",
       "      <td>0</td>\n",
       "      <td>...</td>\n",
       "      <td>Fairfield</td>\n",
       "      <td>Auto Passenger</td>\n",
       "      <td></td>\n",
       "      <td>8</td>\n",
       "      <td>No</td>\n",
       "      <td>100</td>\n",
       "      <td>300</td>\n",
       "      <td>Start Time Cannot Vary</td>\n",
       "      <td>16 to 30 Minutes</td>\n",
       "      <td>No</td>\n",
       "    </tr>\n",
       "  </tbody>\n",
       "</table>\n",
       "<p>5 rows × 65 columns</p>\n",
       "</div>"
      ],
      "text/plain": [
       "     SAMPN  PERNO  PERTYPE  ORIG_HOME  DEST_HOME  DOW_x  OTAZ  DTAZ  DTPURP  \\\n",
       "0  3000056      1        2          1          0      3  2626  2627      24   \n",
       "1  3000056      1        2          0          1      3  2627  2626       3   \n",
       "2  3000056      1        2          1          0      3  2626  2627       9   \n",
       "3  3000056      1        2          0          1      3  2627  2626       3   \n",
       "4  3000056      1        2          1          0      3  2626  2628      25   \n",
       "\n",
       "   OTPURP_AGG  ...        WFIPS           WMODE  O_WMODE  TTTWS  CDRIV  WSTRT  \\\n",
       "0           0  ...    Fairfield  Auto Passenger               8     No    100   \n",
       "1           9  ...    Fairfield  Auto Passenger               8     No    100   \n",
       "2           0  ...    Fairfield  Auto Passenger               8     No    100   \n",
       "3           1  ...    Fairfield  Auto Passenger               8     No    100   \n",
       "4           0  ...    Fairfield  Auto Passenger               8     No    100   \n",
       "\n",
       "   WEND                   STRVR             ENDVR  STUDE  \n",
       "0   300  Start Time Cannot Vary  16 to 30 Minutes     No  \n",
       "1   300  Start Time Cannot Vary  16 to 30 Minutes     No  \n",
       "2   300  Start Time Cannot Vary  16 to 30 Minutes     No  \n",
       "3   300  Start Time Cannot Vary  16 to 30 Minutes     No  \n",
       "4   300  Start Time Cannot Vary  16 to 30 Minutes     No  \n",
       "\n",
       "[5 rows x 65 columns]"
      ]
     },
     "execution_count": 33,
     "metadata": {},
     "output_type": "execute_result"
    }
   ],
   "source": [
    "linked_household = pd.merge(linked_clean, household_clean, how='inner', on=['SAMPN'])\n",
    "trip_survey = pd.merge(linked_household, person_clean, how='inner', on=['SAMPN', 'PERNO'])\n",
    "trip_survey.head()\n"
   ]
  },
  {
   "cell_type": "code",
   "execution_count": 34,
   "metadata": {
    "collapsed": false,
    "deletable": true,
    "editable": true
   },
   "outputs": [
    {
     "data": {
      "text/plain": [
       "111089"
      ]
     },
     "execution_count": 34,
     "metadata": {},
     "output_type": "execute_result"
    }
   ],
   "source": [
    "len(trip_survey)"
   ]
  },
  {
   "cell_type": "code",
   "execution_count": 36,
   "metadata": {
    "collapsed": false,
    "deletable": true,
    "editable": true
   },
   "outputs": [
    {
     "data": {
      "text/html": [
       "<div>\n",
       "<table border=\"1\" class=\"dataframe\">\n",
       "  <thead>\n",
       "    <tr style=\"text-align: right;\">\n",
       "      <th></th>\n",
       "      <th>TAZ_ID1</th>\n",
       "      <th>geometry</th>\n",
       "    </tr>\n",
       "  </thead>\n",
       "  <tbody>\n",
       "    <tr>\n",
       "      <th>0</th>\n",
       "      <td>2440</td>\n",
       "      <td>POLYGON ((-73.95330299999999 41.920894, -73.95...</td>\n",
       "    </tr>\n",
       "    <tr>\n",
       "      <th>1</th>\n",
       "      <td>2438</td>\n",
       "      <td>(POLYGON ((-73.884192 41.969296, -73.885808 41...</td>\n",
       "    </tr>\n",
       "    <tr>\n",
       "      <th>2</th>\n",
       "      <td>2433</td>\n",
       "      <td>(POLYGON ((-73.818944 42.046672, -73.818496 42...</td>\n",
       "    </tr>\n",
       "    <tr>\n",
       "      <th>3</th>\n",
       "      <td>2437</td>\n",
       "      <td>POLYGON ((-73.715968 41.931984, -73.715952 41....</td>\n",
       "    </tr>\n",
       "    <tr>\n",
       "      <th>4</th>\n",
       "      <td>2442</td>\n",
       "      <td>POLYGON ((-73.77731199999999 41.924592, -73.77...</td>\n",
       "    </tr>\n",
       "  </tbody>\n",
       "</table>\n",
       "</div>"
      ],
      "text/plain": [
       "   TAZ_ID1                                           geometry\n",
       "0     2440  POLYGON ((-73.95330299999999 41.920894, -73.95...\n",
       "1     2438  (POLYGON ((-73.884192 41.969296, -73.885808 41...\n",
       "2     2433  (POLYGON ((-73.818944 42.046672, -73.818496 42...\n",
       "3     2437  POLYGON ((-73.715968 41.931984, -73.715952 41....\n",
       "4     2442  POLYGON ((-73.77731199999999 41.924592, -73.77..."
      ]
     },
     "execution_count": 36,
     "metadata": {},
     "output_type": "execute_result"
    }
   ],
   "source": [
    "import geopandas as gpd\n",
    "\n",
    "taz = gpd.read_file('../../fm-lm-demand-simulation/data/external/NYMTC_BPM_TAZ2010_CT2010/BPM_TAZ2010.shp')\n",
    "taz = taz[['TAZ_ID1', 'geometry']]\n",
    "taz.head()"
   ]
  },
  {
   "cell_type": "code",
   "execution_count": 37,
   "metadata": {
    "collapsed": true,
    "deletable": true,
    "editable": true
   },
   "outputs": [],
   "source": [
    "trip_survey_shape = pd.merge(trip_survey, taz, how='inner', left_on='OTAZ', right_on='TAZ_ID1')"
   ]
  },
  {
   "cell_type": "code",
   "execution_count": 38,
   "metadata": {
    "collapsed": false,
    "deletable": true,
    "editable": true
   },
   "outputs": [
    {
     "data": {
      "text/html": [
       "<div>\n",
       "<table border=\"1\" class=\"dataframe\">\n",
       "  <thead>\n",
       "    <tr style=\"text-align: right;\">\n",
       "      <th></th>\n",
       "      <th>SAMPN</th>\n",
       "      <th>PERNO</th>\n",
       "      <th>PERTYPE</th>\n",
       "      <th>ORIG_HOME</th>\n",
       "      <th>DEST_HOME</th>\n",
       "      <th>DOW_x</th>\n",
       "      <th>OTAZ</th>\n",
       "      <th>DTAZ</th>\n",
       "      <th>DTPURP</th>\n",
       "      <th>OTPURP_AGG</th>\n",
       "      <th>...</th>\n",
       "      <th>O_WMODE</th>\n",
       "      <th>TTTWS</th>\n",
       "      <th>CDRIV</th>\n",
       "      <th>WSTRT</th>\n",
       "      <th>WEND</th>\n",
       "      <th>STRVR</th>\n",
       "      <th>ENDVR</th>\n",
       "      <th>STUDE</th>\n",
       "      <th>TAZ_ID1</th>\n",
       "      <th>geometry</th>\n",
       "    </tr>\n",
       "  </thead>\n",
       "  <tbody>\n",
       "    <tr>\n",
       "      <th>0</th>\n",
       "      <td>3000056</td>\n",
       "      <td>1</td>\n",
       "      <td>2</td>\n",
       "      <td>1</td>\n",
       "      <td>0</td>\n",
       "      <td>3</td>\n",
       "      <td>2626</td>\n",
       "      <td>2627</td>\n",
       "      <td>24</td>\n",
       "      <td>0</td>\n",
       "      <td>...</td>\n",
       "      <td></td>\n",
       "      <td>8</td>\n",
       "      <td>No</td>\n",
       "      <td>100</td>\n",
       "      <td>300</td>\n",
       "      <td>Start Time Cannot Vary</td>\n",
       "      <td>16 to 30 Minutes</td>\n",
       "      <td>No</td>\n",
       "      <td>2626</td>\n",
       "      <td>POLYGON ((-73.4243 41.4551, -73.42529999999999...</td>\n",
       "    </tr>\n",
       "    <tr>\n",
       "      <th>1</th>\n",
       "      <td>3000056</td>\n",
       "      <td>1</td>\n",
       "      <td>2</td>\n",
       "      <td>1</td>\n",
       "      <td>0</td>\n",
       "      <td>3</td>\n",
       "      <td>2626</td>\n",
       "      <td>2627</td>\n",
       "      <td>9</td>\n",
       "      <td>0</td>\n",
       "      <td>...</td>\n",
       "      <td></td>\n",
       "      <td>8</td>\n",
       "      <td>No</td>\n",
       "      <td>100</td>\n",
       "      <td>300</td>\n",
       "      <td>Start Time Cannot Vary</td>\n",
       "      <td>16 to 30 Minutes</td>\n",
       "      <td>No</td>\n",
       "      <td>2626</td>\n",
       "      <td>POLYGON ((-73.4243 41.4551, -73.42529999999999...</td>\n",
       "    </tr>\n",
       "    <tr>\n",
       "      <th>2</th>\n",
       "      <td>3000056</td>\n",
       "      <td>1</td>\n",
       "      <td>2</td>\n",
       "      <td>1</td>\n",
       "      <td>0</td>\n",
       "      <td>3</td>\n",
       "      <td>2626</td>\n",
       "      <td>2628</td>\n",
       "      <td>25</td>\n",
       "      <td>0</td>\n",
       "      <td>...</td>\n",
       "      <td></td>\n",
       "      <td>8</td>\n",
       "      <td>No</td>\n",
       "      <td>100</td>\n",
       "      <td>300</td>\n",
       "      <td>Start Time Cannot Vary</td>\n",
       "      <td>16 to 30 Minutes</td>\n",
       "      <td>No</td>\n",
       "      <td>2626</td>\n",
       "      <td>POLYGON ((-73.4243 41.4551, -73.42529999999999...</td>\n",
       "    </tr>\n",
       "    <tr>\n",
       "      <th>3</th>\n",
       "      <td>3000056</td>\n",
       "      <td>2</td>\n",
       "      <td>1</td>\n",
       "      <td>1</td>\n",
       "      <td>0</td>\n",
       "      <td>3</td>\n",
       "      <td>2626</td>\n",
       "      <td>2676</td>\n",
       "      <td>9</td>\n",
       "      <td>0</td>\n",
       "      <td>...</td>\n",
       "      <td></td>\n",
       "      <td>90</td>\n",
       "      <td>No</td>\n",
       "      <td>730</td>\n",
       "      <td>1900</td>\n",
       "      <td>Within 15 Minutes or Less</td>\n",
       "      <td>More than 1 Hour</td>\n",
       "      <td>No</td>\n",
       "      <td>2626</td>\n",
       "      <td>POLYGON ((-73.4243 41.4551, -73.42529999999999...</td>\n",
       "    </tr>\n",
       "    <tr>\n",
       "      <th>4</th>\n",
       "      <td>3000056</td>\n",
       "      <td>3</td>\n",
       "      <td>3</td>\n",
       "      <td>1</td>\n",
       "      <td>0</td>\n",
       "      <td>3</td>\n",
       "      <td>2626</td>\n",
       "      <td>2627</td>\n",
       "      <td>27</td>\n",
       "      <td>0</td>\n",
       "      <td>...</td>\n",
       "      <td></td>\n",
       "      <td>14</td>\n",
       "      <td>No</td>\n",
       "      <td>1800</td>\n",
       "      <td>2330</td>\n",
       "      <td>More than 1 Hour</td>\n",
       "      <td>More than 1 Hour</td>\n",
       "      <td>Yes - Full Time</td>\n",
       "      <td>2626</td>\n",
       "      <td>POLYGON ((-73.4243 41.4551, -73.42529999999999...</td>\n",
       "    </tr>\n",
       "  </tbody>\n",
       "</table>\n",
       "<p>5 rows × 67 columns</p>\n",
       "</div>"
      ],
      "text/plain": [
       "     SAMPN  PERNO  PERTYPE  ORIG_HOME  DEST_HOME  DOW_x  OTAZ  DTAZ  DTPURP  \\\n",
       "0  3000056      1        2          1          0      3  2626  2627      24   \n",
       "1  3000056      1        2          1          0      3  2626  2627       9   \n",
       "2  3000056      1        2          1          0      3  2626  2628      25   \n",
       "3  3000056      2        1          1          0      3  2626  2676       9   \n",
       "4  3000056      3        3          1          0      3  2626  2627      27   \n",
       "\n",
       "   OTPURP_AGG                        ...                          O_WMODE  \\\n",
       "0           0                        ...                                    \n",
       "1           0                        ...                                    \n",
       "2           0                        ...                                    \n",
       "3           0                        ...                                    \n",
       "4           0                        ...                                    \n",
       "\n",
       "   TTTWS  CDRIV  WSTRT  WEND                      STRVR             ENDVR  \\\n",
       "0      8     No    100   300     Start Time Cannot Vary  16 to 30 Minutes   \n",
       "1      8     No    100   300     Start Time Cannot Vary  16 to 30 Minutes   \n",
       "2      8     No    100   300     Start Time Cannot Vary  16 to 30 Minutes   \n",
       "3     90     No    730  1900  Within 15 Minutes or Less  More than 1 Hour   \n",
       "4     14     No   1800  2330           More than 1 Hour  More than 1 Hour   \n",
       "\n",
       "             STUDE  TAZ_ID1                                           geometry  \n",
       "0               No     2626  POLYGON ((-73.4243 41.4551, -73.42529999999999...  \n",
       "1               No     2626  POLYGON ((-73.4243 41.4551, -73.42529999999999...  \n",
       "2               No     2626  POLYGON ((-73.4243 41.4551, -73.42529999999999...  \n",
       "3               No     2626  POLYGON ((-73.4243 41.4551, -73.42529999999999...  \n",
       "4  Yes - Full Time     2626  POLYGON ((-73.4243 41.4551, -73.42529999999999...  \n",
       "\n",
       "[5 rows x 67 columns]"
      ]
     },
     "execution_count": 38,
     "metadata": {},
     "output_type": "execute_result"
    }
   ],
   "source": [
    "trip_survey_shape.head()"
   ]
  },
  {
   "cell_type": "code",
   "execution_count": 39,
   "metadata": {
    "collapsed": false,
    "deletable": true,
    "editable": true
   },
   "outputs": [
    {
     "data": {
      "text/plain": [
       "111089"
      ]
     },
     "execution_count": 39,
     "metadata": {},
     "output_type": "execute_result"
    }
   ],
   "source": [
    "len(trip_survey_shape)"
   ]
  },
  {
   "cell_type": "code",
   "execution_count": 40,
   "metadata": {
    "collapsed": false,
    "deletable": true,
    "editable": true
   },
   "outputs": [
    {
     "data": {
      "text/plain": [
       "SAMPN              0\n",
       "PERNO              0\n",
       "PERTYPE            0\n",
       "ORIG_HOME          0\n",
       "DEST_HOME          0\n",
       "DOW_x              0\n",
       "OTAZ               0\n",
       "DTAZ               0\n",
       "DTPURP             0\n",
       "OTPURP_AGG         0\n",
       "DTPURP_AGG         0\n",
       "LTMODE_AGG         0\n",
       "TRP_DEP_HR         0\n",
       "TRP_DEP_MIN        0\n",
       "TRP_ARR_HR         0\n",
       "TRP_ARR_MIN        0\n",
       "TRPDUR_R           0\n",
       "ACTDUR             0\n",
       "OTRACT             0\n",
       "DTRACT             0\n",
       "PMODE1             0\n",
       "PMODE_R            0\n",
       "PMODE_R2           0\n",
       "PMODE_R3           0\n",
       "WORK_PURP          0\n",
       "DTPURP_R           0\n",
       "ODTPURP            0\n",
       "ODTPURP1           0\n",
       "ODTPURP2           0\n",
       "ODTPURP2_R         0\n",
       "               ...  \n",
       "CTFIP              0\n",
       "INCOM_R            0\n",
       "DOW_y              0\n",
       "HHVEH              0\n",
       "GENDER             0\n",
       "AGE_R              0\n",
       "LIC                0\n",
       "RELAT              0\n",
       "RACE               0\n",
       "EMPLY              0\n",
       "WORKS              0\n",
       "WKSTAT             0\n",
       "JOBS               0\n",
       "WDAYS              0\n",
       "INDUS              0\n",
       "OCCUP              0\n",
       "O_OCCUP            0\n",
       "WLOC               0\n",
       "WFIPS           6061\n",
       "WMODE           6061\n",
       "O_WMODE            0\n",
       "TTTWS           6061\n",
       "CDRIV          15016\n",
       "WSTRT              0\n",
       "WEND               0\n",
       "STRVR           6061\n",
       "ENDVR           6061\n",
       "STUDE              0\n",
       "TAZ_ID1            0\n",
       "geometry           0\n",
       "dtype: int64"
      ]
     },
     "execution_count": 40,
     "metadata": {},
     "output_type": "execute_result"
    }
   ],
   "source": [
    "trip_survey_shape.isnull().sum()"
   ]
  },
  {
   "cell_type": "code",
   "execution_count": 41,
   "metadata": {
    "collapsed": true,
    "deletable": true,
    "editable": true
   },
   "outputs": [],
   "source": [
    "trip_survey_shape.to_csv('../../fm-lm-demand-simulation/data/processed/trip_survey_working.csv')"
   ]
  },
  {
   "cell_type": "code",
   "execution_count": 42,
   "metadata": {
    "collapsed": false,
    "deletable": true,
    "editable": true
   },
   "outputs": [
    {
     "name": "stderr",
     "output_type": "stream",
     "text": [
      "/Users/Danny1/anaconda/lib/python2.7/site-packages/IPython/core/interactiveshell.py:2717: DtypeWarning: Columns (0,1,2,3,4,5,6,9,10,11,13) have mixed types. Specify dtype option on import or set low_memory=False.\n",
      "  interactivity=interactivity, compiler=compiler, result=result)\n"
     ]
    },
    {
     "data": {
      "text/plain": [
       "SAMPN              0\n",
       "PERNO              0\n",
       "PERTYPE            0\n",
       "ORIG_HOME          0\n",
       "DEST_HOME          0\n",
       "DOW_x              2\n",
       "OTAZ               0\n",
       "DTAZ               0\n",
       "DTPURP             0\n",
       "OTPURP_AGG         0\n",
       "DTPURP_AGG         0\n",
       "LTMODE_AGG         0\n",
       "TRP_DEP_HR         0\n",
       "TRP_DEP_MIN        4\n",
       "TRP_ARR_HR         4\n",
       "TRP_ARR_MIN        4\n",
       "TRPDUR_R           4\n",
       "ACTDUR             4\n",
       "OTRACT             4\n",
       "DTRACT             4\n",
       "PMODE1             4\n",
       "PMODE_R            4\n",
       "PMODE_R2           4\n",
       "PMODE_R3           4\n",
       "WORK_PURP          4\n",
       "DTPURP_R           4\n",
       "ODTPURP            4\n",
       "ODTPURP1           4\n",
       "ODTPURP2           4\n",
       "ODTPURP2_R         4\n",
       "               ...  \n",
       "CTFIP              4\n",
       "INCOM_R            4\n",
       "DOW_y              4\n",
       "HHVEH              4\n",
       "GENDER             4\n",
       "AGE_R              4\n",
       "LIC                4\n",
       "RELAT              4\n",
       "RACE               4\n",
       "EMPLY              4\n",
       "WORKS              4\n",
       "WKSTAT             4\n",
       "JOBS               4\n",
       "WDAYS              4\n",
       "INDUS              4\n",
       "OCCUP              4\n",
       "O_OCCUP            4\n",
       "WLOC               8\n",
       "WFIPS           6069\n",
       "WMODE           6069\n",
       "O_WMODE            8\n",
       "TTTWS           6069\n",
       "CDRIV          15022\n",
       "WSTRT              8\n",
       "WEND               8\n",
       "STRVR           6069\n",
       "ENDVR           6069\n",
       "STUDE              8\n",
       "TAZ_ID1            8\n",
       "geometry           8\n",
       "dtype: int64"
      ]
     },
     "execution_count": 42,
     "metadata": {},
     "output_type": "execute_result"
    }
   ],
   "source": [
    "trip_survey_shape1 = pd.read_csv('../../fm-lm-demand-simulation/data/processed/trip_survey_working.csv', index_col=0)\n",
    "trip_survey_shape1.isnull().sum()"
   ]
  },
  {
   "cell_type": "code",
   "execution_count": 43,
   "metadata": {
    "collapsed": false,
    "deletable": true,
    "editable": true,
    "scrolled": false
   },
   "outputs": [
    {
     "data": {
      "text/plain": [
       "SAMPN              0\n",
       "PERNO              0\n",
       "PERTYPE            0\n",
       "ORIG_HOME          0\n",
       "DEST_HOME          0\n",
       "DOW_x              0\n",
       "OTAZ               0\n",
       "DTAZ               0\n",
       "DTPURP             0\n",
       "OTPURP_AGG         0\n",
       "DTPURP_AGG         0\n",
       "LTMODE_AGG         0\n",
       "TRP_DEP_HR         0\n",
       "TRP_DEP_MIN        0\n",
       "TRP_ARR_HR         0\n",
       "TRP_ARR_MIN        0\n",
       "TRPDUR_R           0\n",
       "ACTDUR             0\n",
       "OTRACT             0\n",
       "DTRACT             0\n",
       "PMODE1             0\n",
       "PMODE_R            0\n",
       "PMODE_R2           0\n",
       "PMODE_R3           0\n",
       "WORK_PURP          0\n",
       "DTPURP_R           0\n",
       "ODTPURP            0\n",
       "ODTPURP1           0\n",
       "ODTPURP2           0\n",
       "ODTPURP2_R         0\n",
       "               ...  \n",
       "CTFIP              0\n",
       "INCOM_R            0\n",
       "DOW_y              0\n",
       "HHVEH              0\n",
       "GENDER             0\n",
       "AGE_R              0\n",
       "LIC                0\n",
       "RELAT              0\n",
       "RACE               0\n",
       "EMPLY              0\n",
       "WORKS              0\n",
       "WKSTAT             0\n",
       "JOBS               0\n",
       "WDAYS              0\n",
       "INDUS              0\n",
       "OCCUP              0\n",
       "O_OCCUP            0\n",
       "WLOC               0\n",
       "WFIPS           6061\n",
       "WMODE           6061\n",
       "O_WMODE            0\n",
       "TTTWS           6061\n",
       "CDRIV          15014\n",
       "WSTRT              0\n",
       "WEND               0\n",
       "STRVR           6061\n",
       "ENDVR           6061\n",
       "STUDE              0\n",
       "TAZ_ID1            0\n",
       "geometry           0\n",
       "dtype: int64"
      ]
     },
     "execution_count": 43,
     "metadata": {},
     "output_type": "execute_result"
    }
   ],
   "source": [
    "trip_survey_shape1 = trip_survey_shape1[np.isfinite(trip_survey_shape1['OTRACT'])]\n",
    "trip_survey_shape1 = trip_survey_shape1[np.isfinite(trip_survey_shape1['TAZ_ID1'])]\n",
    "trip_survey_shape1.isnull().sum()"
   ]
  },
  {
   "cell_type": "code",
   "execution_count": 44,
   "metadata": {
    "collapsed": false,
    "deletable": true,
    "editable": true
   },
   "outputs": [
    {
     "data": {
      "text/plain": [
       "111085"
      ]
     },
     "execution_count": 44,
     "metadata": {},
     "output_type": "execute_result"
    }
   ],
   "source": [
    "len(trip_survey_shape1)"
   ]
  },
  {
   "cell_type": "markdown",
   "metadata": {
    "deletable": true,
    "editable": true
   },
   "source": [
    "#### Process Features\n",
    "* Age - <16, 16-55, 55+\n",
    "\n",
    "* Number of cars – 0, 1, 2+\n",
    "\n",
    "* Work flexible – 0, 1 (working starting time)\n",
    "\n",
    "* Parking – PLOC\n",
    "\n",
    "* Are users In couple - (0,1)\n",
    "\n",
    "* Children – (0,1)\n",
    "\n",
    "* TAZ characteristics  - income\n"
   ]
  },
  {
   "cell_type": "code",
   "execution_count": 45,
   "metadata": {
    "collapsed": false,
    "deletable": true,
    "editable": true
   },
   "outputs": [],
   "source": [
    "# Replace Values\n",
    "#vals_to_replace = {'16-18 years':'16-55 years', '19-24 years':'16-55 years', '25-34 years':'16-55 years', \n",
    "                   #'35-54 years':'16-55 years', '55-64 years':'55+', '65 years or older':'55+', 'Younger than 16 years':'<16'}\n",
    "\n",
    "#trip_survey_shape1.AGE_R = trip_survey_shape1.AGE_R.map(vals_to_replace)\n",
    "#trip_survey_shape1.AGE_R.unique()"
   ]
  },
  {
   "cell_type": "code",
   "execution_count": 46,
   "metadata": {
    "collapsed": false,
    "deletable": true,
    "editable": true
   },
   "outputs": [
    {
     "data": {
      "text/plain": [
       "array(['2+', 1, 0], dtype=object)"
      ]
     },
     "execution_count": 46,
     "metadata": {},
     "output_type": "execute_result"
    }
   ],
   "source": [
    "# Replace Values\n",
    "vals_to_replace = {0:0, 1:1, 2:'2+', 3:'2+', 4:'2+', 5:'2+', 6:'2+', 7:'2+', 8:'2+'}\n",
    "\n",
    "trip_survey_shape1.HHVEH = trip_survey_shape1.HHVEH.map(vals_to_replace)\n",
    "trip_survey_shape1.HHVEH.unique()"
   ]
  },
  {
   "cell_type": "code",
   "execution_count": 47,
   "metadata": {
    "collapsed": true,
    "deletable": true,
    "editable": true
   },
   "outputs": [],
   "source": [
    "# Create work flexible column\n",
    "work_flexible_start = []\n",
    "work_flexible_end = []\n",
    "time_variations = ['16 to 30 Minutes', 'More than 1 Hour', '31 to 60 Minutes']\n",
    "\n",
    "for index,row in trip_survey_shape1.iterrows():\n",
    "    if row['STRVR'] in time_variations:\n",
    "        work_flexible_start.append(1)\n",
    "    else:\n",
    "        work_flexible_start.append(0)\n",
    "        \n",
    "for index,row in trip_survey_shape1.iterrows():\n",
    "    if row['ENDVR'] in time_variations:\n",
    "        work_flexible_end.append(1)\n",
    "    else:\n",
    "        work_flexible_end.append(0)\n"
   ]
  },
  {
   "cell_type": "code",
   "execution_count": 48,
   "metadata": {
    "collapsed": false,
    "deletable": true,
    "editable": true
   },
   "outputs": [],
   "source": [
    "trip_survey_shape1['work_flex_start'] = work_flexible_start\n",
    "trip_survey_shape1['work_flex_end'] = work_flexible_end"
   ]
  },
  {
   "cell_type": "code",
   "execution_count": 49,
   "metadata": {
    "collapsed": false,
    "deletable": true,
    "editable": true
   },
   "outputs": [],
   "source": [
    "trip_survey1 = trip_survey_shape1.drop(['TAZ_ID1', 'geometry'], axis=1)"
   ]
  },
  {
   "cell_type": "code",
   "execution_count": 50,
   "metadata": {
    "collapsed": false,
    "deletable": true,
    "editable": true
   },
   "outputs": [],
   "source": [
    "trip_survey_shape1.to_csv('../../fm-lm-demand-simulation/data/processed/trip_survey_working_shape.csv')\n",
    "trip_survey1.to_csv('../Data/trip_survey.csv')"
   ]
  },
  {
   "cell_type": "code",
   "execution_count": null,
   "metadata": {
    "collapsed": true,
    "deletable": true,
    "editable": true
   },
   "outputs": [],
   "source": []
  }
 ],
 "metadata": {
  "anaconda-cloud": {},
  "kernelspec": {
   "display_name": "Python [default]",
   "language": "python",
   "name": "python2"
  },
  "language_info": {
   "codemirror_mode": {
    "name": "ipython",
    "version": 2
   },
   "file_extension": ".py",
   "mimetype": "text/x-python",
   "name": "python",
   "nbconvert_exporter": "python",
   "pygments_lexer": "ipython2",
   "version": "2.7.8"
  }
 },
 "nbformat": 4,
 "nbformat_minor": 2
}
