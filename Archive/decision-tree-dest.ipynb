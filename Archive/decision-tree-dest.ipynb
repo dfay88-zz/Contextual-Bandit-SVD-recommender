{
 "cells": [
  {
   "cell_type": "code",
   "execution_count": 79,
   "metadata": {
    "collapsed": false,
    "deletable": true,
    "editable": true
   },
   "outputs": [],
   "source": [
    "# Import Necessary Packages\n",
    "import pandas as pd\n",
    "import numpy as np\n",
    "import geopandas as gpd\n",
    "import matplotlib.pyplot as plt\n",
    "from sklearn.model_selection import train_test_split\n",
    "from sklearn.tree import DecisionTreeClassifier as DTC\n",
    "from sklearn.metrics import roc_auc_score as rs\n",
    "from sklearn.model_selection import GridSearchCV\n",
    "from sklearn.model_selection import train_test_split\n",
    "% matplotlib inline"
   ]
  },
  {
   "cell_type": "code",
   "execution_count": 80,
   "metadata": {
    "collapsed": false,
    "deletable": true,
    "editable": true
   },
   "outputs": [
    {
     "data": {
      "text/html": [
       "<div>\n",
       "<table border=\"1\" class=\"dataframe\">\n",
       "  <thead>\n",
       "    <tr style=\"text-align: right;\">\n",
       "      <th></th>\n",
       "      <th>SAMPN</th>\n",
       "      <th>PERNO</th>\n",
       "      <th>PERTYPE</th>\n",
       "      <th>ORIG_HOME</th>\n",
       "      <th>DEST_HOME</th>\n",
       "      <th>DOW_x</th>\n",
       "      <th>OTAZ</th>\n",
       "      <th>DTAZ</th>\n",
       "      <th>OTPURP_AGG</th>\n",
       "      <th>DTPURP_AGG</th>\n",
       "      <th>...</th>\n",
       "      <th>O_WMODE</th>\n",
       "      <th>TTTWS</th>\n",
       "      <th>CDRIV</th>\n",
       "      <th>WSTRT</th>\n",
       "      <th>WEND</th>\n",
       "      <th>STRVR</th>\n",
       "      <th>ENDVR</th>\n",
       "      <th>STUDE</th>\n",
       "      <th>work_flex_start</th>\n",
       "      <th>work_flex_end</th>\n",
       "    </tr>\n",
       "  </thead>\n",
       "  <tbody>\n",
       "    <tr>\n",
       "      <th>0</th>\n",
       "      <td>3000056</td>\n",
       "      <td>1</td>\n",
       "      <td>2</td>\n",
       "      <td>1</td>\n",
       "      <td>0</td>\n",
       "      <td>3.0</td>\n",
       "      <td>2626</td>\n",
       "      <td>2627</td>\n",
       "      <td>0</td>\n",
       "      <td>9</td>\n",
       "      <td>...</td>\n",
       "      <td></td>\n",
       "      <td>8</td>\n",
       "      <td>No</td>\n",
       "      <td>100</td>\n",
       "      <td>300</td>\n",
       "      <td>Start Time Cannot Vary</td>\n",
       "      <td>16 to 30 Minutes</td>\n",
       "      <td>No</td>\n",
       "      <td>0</td>\n",
       "      <td>1</td>\n",
       "    </tr>\n",
       "    <tr>\n",
       "      <th>1</th>\n",
       "      <td>3000056</td>\n",
       "      <td>1</td>\n",
       "      <td>2</td>\n",
       "      <td>1</td>\n",
       "      <td>0</td>\n",
       "      <td>3.0</td>\n",
       "      <td>2626</td>\n",
       "      <td>2627</td>\n",
       "      <td>0</td>\n",
       "      <td>1</td>\n",
       "      <td>...</td>\n",
       "      <td></td>\n",
       "      <td>8</td>\n",
       "      <td>No</td>\n",
       "      <td>100</td>\n",
       "      <td>300</td>\n",
       "      <td>Start Time Cannot Vary</td>\n",
       "      <td>16 to 30 Minutes</td>\n",
       "      <td>No</td>\n",
       "      <td>0</td>\n",
       "      <td>1</td>\n",
       "    </tr>\n",
       "    <tr>\n",
       "      <th>2</th>\n",
       "      <td>3000056</td>\n",
       "      <td>1</td>\n",
       "      <td>2</td>\n",
       "      <td>1</td>\n",
       "      <td>0</td>\n",
       "      <td>3.0</td>\n",
       "      <td>2626</td>\n",
       "      <td>2628</td>\n",
       "      <td>0</td>\n",
       "      <td>9</td>\n",
       "      <td>...</td>\n",
       "      <td></td>\n",
       "      <td>8</td>\n",
       "      <td>No</td>\n",
       "      <td>100</td>\n",
       "      <td>300</td>\n",
       "      <td>Start Time Cannot Vary</td>\n",
       "      <td>16 to 30 Minutes</td>\n",
       "      <td>No</td>\n",
       "      <td>0</td>\n",
       "      <td>1</td>\n",
       "    </tr>\n",
       "    <tr>\n",
       "      <th>3</th>\n",
       "      <td>3000056</td>\n",
       "      <td>2</td>\n",
       "      <td>1</td>\n",
       "      <td>1</td>\n",
       "      <td>0</td>\n",
       "      <td>3.0</td>\n",
       "      <td>2626</td>\n",
       "      <td>2676</td>\n",
       "      <td>0</td>\n",
       "      <td>1</td>\n",
       "      <td>...</td>\n",
       "      <td></td>\n",
       "      <td>90</td>\n",
       "      <td>No</td>\n",
       "      <td>730</td>\n",
       "      <td>1900</td>\n",
       "      <td>Within 15 Minutes or Less</td>\n",
       "      <td>More than 1 Hour</td>\n",
       "      <td>No</td>\n",
       "      <td>0</td>\n",
       "      <td>1</td>\n",
       "    </tr>\n",
       "    <tr>\n",
       "      <th>4</th>\n",
       "      <td>3000056</td>\n",
       "      <td>3</td>\n",
       "      <td>3</td>\n",
       "      <td>1</td>\n",
       "      <td>0</td>\n",
       "      <td>3.0</td>\n",
       "      <td>2626</td>\n",
       "      <td>2627</td>\n",
       "      <td>0</td>\n",
       "      <td>8</td>\n",
       "      <td>...</td>\n",
       "      <td></td>\n",
       "      <td>14</td>\n",
       "      <td>No</td>\n",
       "      <td>1800</td>\n",
       "      <td>2330</td>\n",
       "      <td>More than 1 Hour</td>\n",
       "      <td>More than 1 Hour</td>\n",
       "      <td>Yes - Full Time</td>\n",
       "      <td>1</td>\n",
       "      <td>1</td>\n",
       "    </tr>\n",
       "  </tbody>\n",
       "</table>\n",
       "<p>5 rows × 66 columns</p>\n",
       "</div>"
      ],
      "text/plain": [
       "     SAMPN  PERNO  PERTYPE  ORIG_HOME  DEST_HOME  DOW_x  OTAZ  DTAZ  \\\n",
       "0  3000056      1        2          1          0    3.0  2626  2627   \n",
       "1  3000056      1        2          1          0    3.0  2626  2627   \n",
       "2  3000056      1        2          1          0    3.0  2626  2628   \n",
       "3  3000056      2        1          1          0    3.0  2626  2676   \n",
       "4  3000056      3        3          1          0    3.0  2626  2627   \n",
       "\n",
       "   OTPURP_AGG  DTPURP_AGG      ...        O_WMODE  TTTWS  CDRIV  WSTRT  WEND  \\\n",
       "0           0           9      ...                     8     No    100   300   \n",
       "1           0           1      ...                     8     No    100   300   \n",
       "2           0           9      ...                     8     No    100   300   \n",
       "3           0           1      ...                    90     No    730  1900   \n",
       "4           0           8      ...                    14     No   1800  2330   \n",
       "\n",
       "                       STRVR             ENDVR            STUDE  \\\n",
       "0     Start Time Cannot Vary  16 to 30 Minutes               No   \n",
       "1     Start Time Cannot Vary  16 to 30 Minutes               No   \n",
       "2     Start Time Cannot Vary  16 to 30 Minutes               No   \n",
       "3  Within 15 Minutes or Less  More than 1 Hour               No   \n",
       "4           More than 1 Hour  More than 1 Hour  Yes - Full Time   \n",
       "\n",
       "   work_flex_start  work_flex_end  \n",
       "0                0              1  \n",
       "1                0              1  \n",
       "2                0              1  \n",
       "3                0              1  \n",
       "4                1              1  \n",
       "\n",
       "[5 rows x 66 columns]"
      ]
     },
     "execution_count": 80,
     "metadata": {},
     "output_type": "execute_result"
    }
   ],
   "source": [
    "# Load Dataset\n",
    "df = pd.read_csv('../Data/trip_survey.csv', index_col=0)\n",
    "df.head()"
   ]
  },
  {
   "cell_type": "code",
   "execution_count": 81,
   "metadata": {
    "collapsed": false,
    "deletable": true,
    "editable": true
   },
   "outputs": [],
   "source": [
    "df.DTRACT = df.DTRACT.astype(int)\n",
    "df.DTRACT = df.DTRACT.astype(str)\n",
    "df.DTRACT = df.DTRACT.apply(lambda x: x.zfill(11))"
   ]
  },
  {
   "cell_type": "code",
   "execution_count": 82,
   "metadata": {
    "collapsed": false,
    "deletable": true,
    "editable": true
   },
   "outputs": [],
   "source": [
    "census_tracts = gpd.read_file('../Data/shapefiles/NYMTC_BPM_TAZ2010_CT2010/BPM_CT2010.shp')"
   ]
  },
  {
   "cell_type": "code",
   "execution_count": 83,
   "metadata": {
    "collapsed": false,
    "deletable": true,
    "editable": true
   },
   "outputs": [
    {
     "data": {
      "text/plain": [
       "{'init': 'epsg:4326'}"
      ]
     },
     "execution_count": 83,
     "metadata": {},
     "output_type": "execute_result"
    }
   ],
   "source": [
    "census_tracts.crs = {'init' :'epsg:4326'}\n",
    "census_tracts.crs"
   ]
  },
  {
   "cell_type": "code",
   "execution_count": 84,
   "metadata": {
    "collapsed": false,
    "deletable": true,
    "editable": true
   },
   "outputs": [],
   "source": [
    "df_ct = pd.merge(df, census_tracts, left_on='DTRACT', right_on='GEOID10')"
   ]
  },
  {
   "cell_type": "code",
   "execution_count": 85,
   "metadata": {
    "collapsed": false,
    "deletable": true,
    "editable": true
   },
   "outputs": [
    {
     "data": {
      "text/plain": [
       "103617"
      ]
     },
     "execution_count": 85,
     "metadata": {},
     "output_type": "execute_result"
    }
   ],
   "source": [
    "len(df_ct)"
   ]
  },
  {
   "cell_type": "code",
   "execution_count": 86,
   "metadata": {
    "collapsed": false,
    "deletable": true,
    "editable": true
   },
   "outputs": [
    {
     "data": {
      "text/plain": [
       "{'init': 'epsg:4326'}"
      ]
     },
     "execution_count": 86,
     "metadata": {},
     "output_type": "execute_result"
    }
   ],
   "source": [
    "df_ct = gpd.GeoDataFrame(df_ct)\n",
    "df_ct.crs = {'init' :'epsg:4326'}\n",
    "df_ct.crs"
   ]
  },
  {
   "cell_type": "code",
   "execution_count": 87,
   "metadata": {
    "collapsed": false,
    "deletable": true,
    "editable": true
   },
   "outputs": [],
   "source": [
    "nyc = gpd.read_file('../Data/shapefiles/nynta.shp')\n",
    "nyc = nyc.to_crs({'init' :'epsg:4326'})"
   ]
  },
  {
   "cell_type": "code",
   "execution_count": 88,
   "metadata": {
    "collapsed": false,
    "deletable": true,
    "editable": true
   },
   "outputs": [
    {
     "data": {
      "text/html": [
       "<div>\n",
       "<table border=\"1\" class=\"dataframe\">\n",
       "  <thead>\n",
       "    <tr style=\"text-align: right;\">\n",
       "      <th></th>\n",
       "      <th>BoroCode</th>\n",
       "      <th>BoroName</th>\n",
       "      <th>CountyFIPS</th>\n",
       "      <th>NTACode</th>\n",
       "      <th>NTAName</th>\n",
       "      <th>Shape_Area</th>\n",
       "      <th>Shape_Leng</th>\n",
       "      <th>geometry</th>\n",
       "    </tr>\n",
       "  </thead>\n",
       "  <tbody>\n",
       "    <tr>\n",
       "      <th>0</th>\n",
       "      <td>3</td>\n",
       "      <td>Brooklyn</td>\n",
       "      <td>047</td>\n",
       "      <td>BK88</td>\n",
       "      <td>Borough Park</td>\n",
       "      <td>5.400502e+07</td>\n",
       "      <td>39247.228028</td>\n",
       "      <td>POLYGON ((-73.97604935657381 40.63127590568011...</td>\n",
       "    </tr>\n",
       "    <tr>\n",
       "      <th>1</th>\n",
       "      <td>4</td>\n",
       "      <td>Queens</td>\n",
       "      <td>081</td>\n",
       "      <td>QN52</td>\n",
       "      <td>East Flushing</td>\n",
       "      <td>2.945438e+07</td>\n",
       "      <td>25843.364934</td>\n",
       "      <td>POLYGON ((-73.79493246233986 40.75779803010788...</td>\n",
       "    </tr>\n",
       "    <tr>\n",
       "      <th>2</th>\n",
       "      <td>4</td>\n",
       "      <td>Queens</td>\n",
       "      <td>081</td>\n",
       "      <td>QN48</td>\n",
       "      <td>Auburndale</td>\n",
       "      <td>3.416422e+07</td>\n",
       "      <td>32446.878764</td>\n",
       "      <td>POLYGON ((-73.77573836927087 40.74332564719731...</td>\n",
       "    </tr>\n",
       "    <tr>\n",
       "      <th>3</th>\n",
       "      <td>4</td>\n",
       "      <td>Queens</td>\n",
       "      <td>081</td>\n",
       "      <td>QN51</td>\n",
       "      <td>Murray Hill</td>\n",
       "      <td>5.248828e+07</td>\n",
       "      <td>33266.904732</td>\n",
       "      <td>POLYGON ((-73.80379022888238 40.77561011182583...</td>\n",
       "    </tr>\n",
       "    <tr>\n",
       "      <th>4</th>\n",
       "      <td>4</td>\n",
       "      <td>Queens</td>\n",
       "      <td>081</td>\n",
       "      <td>QN27</td>\n",
       "      <td>East Elmhurst</td>\n",
       "      <td>1.972685e+07</td>\n",
       "      <td>19816.712116</td>\n",
       "      <td>POLYGON ((-73.86109724335753 40.76366447712022...</td>\n",
       "    </tr>\n",
       "  </tbody>\n",
       "</table>\n",
       "</div>"
      ],
      "text/plain": [
       "   BoroCode  BoroName CountyFIPS NTACode        NTAName    Shape_Area  \\\n",
       "0         3  Brooklyn        047    BK88   Borough Park  5.400502e+07   \n",
       "1         4    Queens        081    QN52  East Flushing  2.945438e+07   \n",
       "2         4    Queens        081    QN48     Auburndale  3.416422e+07   \n",
       "3         4    Queens        081    QN51    Murray Hill  5.248828e+07   \n",
       "4         4    Queens        081    QN27  East Elmhurst  1.972685e+07   \n",
       "\n",
       "     Shape_Leng                                           geometry  \n",
       "0  39247.228028  POLYGON ((-73.97604935657381 40.63127590568011...  \n",
       "1  25843.364934  POLYGON ((-73.79493246233986 40.75779803010788...  \n",
       "2  32446.878764  POLYGON ((-73.77573836927087 40.74332564719731...  \n",
       "3  33266.904732  POLYGON ((-73.80379022888238 40.77561011182583...  \n",
       "4  19816.712116  POLYGON ((-73.86109724335753 40.76366447712022...  "
      ]
     },
     "execution_count": 88,
     "metadata": {},
     "output_type": "execute_result"
    }
   ],
   "source": [
    "nyc.head()"
   ]
  },
  {
   "cell_type": "code",
   "execution_count": 89,
   "metadata": {
    "collapsed": false,
    "deletable": true,
    "editable": true
   },
   "outputs": [
    {
     "data": {
      "text/plain": [
       "54182"
      ]
     },
     "execution_count": 89,
     "metadata": {},
     "output_type": "execute_result"
    }
   ],
   "source": [
    "df_nyc = gpd.sjoin(nyc, df_ct, op='intersects')\n",
    "len(df_nyc)"
   ]
  },
  {
   "cell_type": "code",
   "execution_count": 90,
   "metadata": {
    "collapsed": false,
    "deletable": true,
    "editable": true
   },
   "outputs": [
    {
     "data": {
      "text/html": [
       "<div>\n",
       "<table border=\"1\" class=\"dataframe\">\n",
       "  <thead>\n",
       "    <tr style=\"text-align: right;\">\n",
       "      <th></th>\n",
       "      <th>BoroCode</th>\n",
       "      <th>BoroName</th>\n",
       "      <th>CountyFIPS</th>\n",
       "      <th>NTACode</th>\n",
       "      <th>NTAName</th>\n",
       "      <th>Shape_Area</th>\n",
       "      <th>Shape_Leng</th>\n",
       "      <th>geometry</th>\n",
       "      <th>index_right</th>\n",
       "      <th>SAMPN</th>\n",
       "      <th>...</th>\n",
       "      <th>ALAND10</th>\n",
       "      <th>AWATER10</th>\n",
       "      <th>COUNTYFP10</th>\n",
       "      <th>FUNCSTAT10</th>\n",
       "      <th>GEOID10</th>\n",
       "      <th>MTFCC10</th>\n",
       "      <th>NAME10</th>\n",
       "      <th>NAMELSAD10</th>\n",
       "      <th>STATEFP10</th>\n",
       "      <th>TRACTCE10</th>\n",
       "    </tr>\n",
       "  </thead>\n",
       "  <tbody>\n",
       "    <tr>\n",
       "      <th>0</th>\n",
       "      <td>3</td>\n",
       "      <td>Brooklyn</td>\n",
       "      <td>047</td>\n",
       "      <td>BK88</td>\n",
       "      <td>Borough Park</td>\n",
       "      <td>5.400502e+07</td>\n",
       "      <td>39247.228028</td>\n",
       "      <td>POLYGON ((-73.97604935657381 40.63127590568011...</td>\n",
       "      <td>49275</td>\n",
       "      <td>3588150</td>\n",
       "      <td>...</td>\n",
       "      <td>169085</td>\n",
       "      <td>0</td>\n",
       "      <td>047</td>\n",
       "      <td>S</td>\n",
       "      <td>36047046400</td>\n",
       "      <td>G5020</td>\n",
       "      <td>464</td>\n",
       "      <td>Census Tract 464</td>\n",
       "      <td>36</td>\n",
       "      <td>046400</td>\n",
       "    </tr>\n",
       "    <tr>\n",
       "      <th>86</th>\n",
       "      <td>3</td>\n",
       "      <td>Brooklyn</td>\n",
       "      <td>047</td>\n",
       "      <td>BK46</td>\n",
       "      <td>Ocean Parkway South</td>\n",
       "      <td>1.778210e+07</td>\n",
       "      <td>21975.997112</td>\n",
       "      <td>POLYGON ((-73.9707469139593 40.62562949549583,...</td>\n",
       "      <td>49275</td>\n",
       "      <td>3588150</td>\n",
       "      <td>...</td>\n",
       "      <td>169085</td>\n",
       "      <td>0</td>\n",
       "      <td>047</td>\n",
       "      <td>S</td>\n",
       "      <td>36047046400</td>\n",
       "      <td>G5020</td>\n",
       "      <td>464</td>\n",
       "      <td>Census Tract 464</td>\n",
       "      <td>36</td>\n",
       "      <td>046400</td>\n",
       "    </tr>\n",
       "    <tr>\n",
       "      <th>93</th>\n",
       "      <td>3</td>\n",
       "      <td>Brooklyn</td>\n",
       "      <td>047</td>\n",
       "      <td>BK42</td>\n",
       "      <td>Flatbush</td>\n",
       "      <td>4.525481e+07</td>\n",
       "      <td>38737.853254</td>\n",
       "      <td>POLYGON ((-73.95870789822966 40.65038727381591...</td>\n",
       "      <td>49275</td>\n",
       "      <td>3588150</td>\n",
       "      <td>...</td>\n",
       "      <td>169085</td>\n",
       "      <td>0</td>\n",
       "      <td>047</td>\n",
       "      <td>S</td>\n",
       "      <td>36047046400</td>\n",
       "      <td>G5020</td>\n",
       "      <td>464</td>\n",
       "      <td>Census Tract 464</td>\n",
       "      <td>36</td>\n",
       "      <td>046400</td>\n",
       "    </tr>\n",
       "  </tbody>\n",
       "</table>\n",
       "<p>3 rows × 85 columns</p>\n",
       "</div>"
      ],
      "text/plain": [
       "    BoroCode  BoroName CountyFIPS NTACode              NTAName    Shape_Area  \\\n",
       "0          3  Brooklyn        047    BK88         Borough Park  5.400502e+07   \n",
       "86         3  Brooklyn        047    BK46  Ocean Parkway South  1.778210e+07   \n",
       "93         3  Brooklyn        047    BK42             Flatbush  4.525481e+07   \n",
       "\n",
       "      Shape_Leng                                           geometry  \\\n",
       "0   39247.228028  POLYGON ((-73.97604935657381 40.63127590568011...   \n",
       "86  21975.997112  POLYGON ((-73.9707469139593 40.62562949549583,...   \n",
       "93  38737.853254  POLYGON ((-73.95870789822966 40.65038727381591...   \n",
       "\n",
       "    index_right    SAMPN    ...      ALAND10  AWATER10  COUNTYFP10  \\\n",
       "0         49275  3588150    ...       169085         0         047   \n",
       "86        49275  3588150    ...       169085         0         047   \n",
       "93        49275  3588150    ...       169085         0         047   \n",
       "\n",
       "    FUNCSTAT10      GEOID10  MTFCC10  NAME10        NAMELSAD10  STATEFP10  \\\n",
       "0            S  36047046400    G5020     464  Census Tract 464         36   \n",
       "86           S  36047046400    G5020     464  Census Tract 464         36   \n",
       "93           S  36047046400    G5020     464  Census Tract 464         36   \n",
       "\n",
       "    TRACTCE10  \n",
       "0      046400  \n",
       "86     046400  \n",
       "93     046400  \n",
       "\n",
       "[3 rows x 85 columns]"
      ]
     },
     "execution_count": 90,
     "metadata": {},
     "output_type": "execute_result"
    }
   ],
   "source": [
    "df_nyc.head(3)"
   ]
  },
  {
   "cell_type": "code",
   "execution_count": 94,
   "metadata": {
    "collapsed": false,
    "deletable": true,
    "editable": true
   },
   "outputs": [
    {
     "data": {
      "text/plain": [
       "Index([       u'BoroCode',        u'BoroName',      u'CountyFIPS',\n",
       "               u'NTACode',         u'NTAName',      u'Shape_Area',\n",
       "            u'Shape_Leng',        u'geometry',     u'index_right',\n",
       "                 u'SAMPN',           u'PERNO',         u'PERTYPE',\n",
       "             u'ORIG_HOME',       u'DEST_HOME',           u'DOW_x',\n",
       "                  u'OTAZ',            u'DTAZ',      u'OTPURP_AGG',\n",
       "            u'DTPURP_AGG',      u'LTMODE_AGG',      u'TRP_DEP_HR',\n",
       "           u'TRP_DEP_MIN',      u'TRP_ARR_HR',     u'TRP_ARR_MIN',\n",
       "              u'TRPDUR_R',          u'ACTDUR',          u'OTRACT',\n",
       "                u'DTRACT',          u'PMODE1',         u'PMODE_R',\n",
       "              u'PMODE_R2',        u'PMODE_R3',       u'WORK_PURP',\n",
       "              u'DTPURP_R',         u'ODTPURP',        u'ODTPURP1',\n",
       "              u'ODTPURP2',      u'ODTPURP2_R',            u'PLOC',\n",
       "              u'WORKTRIP',           u'TOD_R',        u'TOD_PEAK',\n",
       "           u'TRIPDIST_R1',     u'TRIPDIST_R2',           u'STYPE',\n",
       "                 u'CTFIP',         u'INCOM_R',           u'DOW_y',\n",
       "                 u'HHVEH',          u'GENDER',           u'AGE_R',\n",
       "                   u'LIC',           u'RELAT',            u'RACE',\n",
       "                 u'EMPLY',           u'WORKS',          u'WKSTAT',\n",
       "                  u'JOBS',           u'WDAYS',           u'INDUS',\n",
       "                 u'OCCUP',         u'O_OCCUP',            u'WLOC',\n",
       "                 u'WFIPS',           u'WMODE',         u'O_WMODE',\n",
       "                 u'TTTWS',           u'CDRIV',           u'WSTRT',\n",
       "                  u'WEND',           u'STRVR',           u'ENDVR',\n",
       "                 u'STUDE', u'work_flex_start',   u'work_flex_end',\n",
       "               u'ALAND10',        u'AWATER10',      u'COUNTYFP10',\n",
       "            u'FUNCSTAT10',         u'GEOID10',         u'MTFCC10',\n",
       "                u'NAME10',      u'NAMELSAD10',       u'STATEFP10',\n",
       "             u'TRACTCE10'],\n",
       "      dtype='object')"
      ]
     },
     "execution_count": 94,
     "metadata": {},
     "output_type": "execute_result"
    }
   ],
   "source": [
    "df_nyc.columns"
   ]
  },
  {
   "cell_type": "code",
   "execution_count": 4,
   "metadata": {
    "collapsed": false,
    "deletable": true,
    "editable": true
   },
   "outputs": [],
   "source": [
    "# Select target variable and feature space\n",
    "X = pd.get_dummies(df_nyc[['ODTPURP2_R', 'GENDER', 'AGE_R', 'INCOM_R', 'HHVEH', 'LIC', 'WORKS', 'TRIPDIST_R1',\n",
    "                'TRPDUR_R', 'OTRACT', 'TOD_R']])\n",
    "Y = df_nyc['NTAName']\n",
    "\n",
    "\n",
    "X.dropna(inplace=True)\n",
    "Y.dropna(inplace=True)\n",
    "X_train,X_test,y_train,y_test=train_test_split(X, Y, test_size=0.3, random_state=999)"
   ]
  },
  {
   "cell_type": "code",
   "execution_count": 92,
   "metadata": {
    "collapsed": false,
    "deletable": true,
    "editable": true
   },
   "outputs": [
    {
     "data": {
      "text/plain": [
       "{'max_depth': 10.526315789473685}"
      ]
     },
     "execution_count": 92,
     "metadata": {},
     "output_type": "execute_result"
    }
   ],
   "source": [
    "# Find best C parameter\n",
    "from sklearn.model_selection import GridSearchCV\n",
    "param_grid = {'max_depth': np.linspace(5,40,20)}\n",
    "dtc = DTC()\n",
    "C_param = GridSearchCV(dtc, param_grid, cv=5)\n",
    "C_param.fit(X_train, y_train)\n",
    "C_param.best_params_"
   ]
  },
  {
   "cell_type": "code",
   "execution_count": 93,
   "metadata": {
    "collapsed": false,
    "deletable": true,
    "editable": true
   },
   "outputs": [
    {
     "name": "stdout",
     "output_type": "stream",
     "text": [
      "Successfully (OS) predict 11.551926626% of the modes\n"
     ]
    }
   ],
   "source": [
    "# Cross validate using best C parameter\n",
    "avg_acc = []\n",
    "for i in range(10):\n",
    "    X_train, X_test, Y_train, Y_test = train_test_split(\n",
    "        X, Y, test_size=0.33, random_state=i) #Use random_state to fix samples\n",
    "    X_train_dummies = pd.get_dummies(X_train)\n",
    "    X_test_dummies = pd.get_dummies(X_test)\n",
    "\n",
    "    clf = DTC(max_depth=C_param.best_params_.values()[0]) \n",
    "    clf.fit(X_train_dummies, Y_train)\n",
    "\n",
    "    avg_acc.append(1.0*(clf.predict(X_test_dummies)==np.asarray(Y_test)).sum()/len(Y_test))\n",
    "\n",
    "print (\"Successfully (OS) predict {}% of the modes\".format(np.mean(avg_acc)*100))"
   ]
  },
  {
   "cell_type": "code",
   "execution_count": 8,
   "metadata": {
    "collapsed": false,
    "deletable": true,
    "editable": true
   },
   "outputs": [
    {
     "data": {
      "text/html": [
       "<div>\n",
       "<table border=\"1\" class=\"dataframe\">\n",
       "  <thead>\n",
       "    <tr style=\"text-align: right;\">\n",
       "      <th></th>\n",
       "      <th>variables</th>\n",
       "      <th>importance</th>\n",
       "    </tr>\n",
       "  </thead>\n",
       "  <tbody>\n",
       "    <tr>\n",
       "      <th>5</th>\n",
       "      <td>TOD_R</td>\n",
       "      <td>0.139709</td>\n",
       "    </tr>\n",
       "    <tr>\n",
       "      <th>0</th>\n",
       "      <td>ODTPURP2_R</td>\n",
       "      <td>0.128062</td>\n",
       "    </tr>\n",
       "    <tr>\n",
       "      <th>1</th>\n",
       "      <td>INCOM_R</td>\n",
       "      <td>0.12105</td>\n",
       "    </tr>\n",
       "    <tr>\n",
       "      <th>3</th>\n",
       "      <td>TRPDUR_R</td>\n",
       "      <td>0.107884</td>\n",
       "    </tr>\n",
       "    <tr>\n",
       "      <th>4</th>\n",
       "      <td>OTRACT</td>\n",
       "      <td>0.083293</td>\n",
       "    </tr>\n",
       "    <tr>\n",
       "      <th>2</th>\n",
       "      <td>TRIPDIST_R1</td>\n",
       "      <td>0.0691071</td>\n",
       "    </tr>\n",
       "    <tr>\n",
       "      <th>6</th>\n",
       "      <td>GENDER_Female</td>\n",
       "      <td>0.0479876</td>\n",
       "    </tr>\n",
       "    <tr>\n",
       "      <th>7</th>\n",
       "      <td>GENDER_Male</td>\n",
       "      <td>0.0477922</td>\n",
       "    </tr>\n",
       "    <tr>\n",
       "      <th>9</th>\n",
       "      <td>AGE_R_55+</td>\n",
       "      <td>0.0460994</td>\n",
       "    </tr>\n",
       "    <tr>\n",
       "      <th>8</th>\n",
       "      <td>AGE_R_16-55 years</td>\n",
       "      <td>0.034354</td>\n",
       "    </tr>\n",
       "    <tr>\n",
       "      <th>19</th>\n",
       "      <td>WORKS_Works</td>\n",
       "      <td>0.0334982</td>\n",
       "    </tr>\n",
       "    <tr>\n",
       "      <th>18</th>\n",
       "      <td>WORKS_Not a Worker</td>\n",
       "      <td>0.0310206</td>\n",
       "    </tr>\n",
       "    <tr>\n",
       "      <th>12</th>\n",
       "      <td>HHVEH_1</td>\n",
       "      <td>0.0300199</td>\n",
       "    </tr>\n",
       "    <tr>\n",
       "      <th>13</th>\n",
       "      <td>HHVEH_2+</td>\n",
       "      <td>0.0277733</td>\n",
       "    </tr>\n",
       "    <tr>\n",
       "      <th>16</th>\n",
       "      <td>LIC_Yes</td>\n",
       "      <td>0.0131316</td>\n",
       "    </tr>\n",
       "  </tbody>\n",
       "</table>\n",
       "</div>"
      ],
      "text/plain": [
       "             variables importance\n",
       "5                TOD_R   0.139709\n",
       "0           ODTPURP2_R   0.128062\n",
       "1              INCOM_R    0.12105\n",
       "3             TRPDUR_R   0.107884\n",
       "4               OTRACT   0.083293\n",
       "2          TRIPDIST_R1  0.0691071\n",
       "6        GENDER_Female  0.0479876\n",
       "7          GENDER_Male  0.0477922\n",
       "9            AGE_R_55+  0.0460994\n",
       "8    AGE_R_16-55 years   0.034354\n",
       "19         WORKS_Works  0.0334982\n",
       "18  WORKS_Not a Worker  0.0310206\n",
       "12             HHVEH_1  0.0300199\n",
       "13            HHVEH_2+  0.0277733\n",
       "16             LIC_Yes  0.0131316"
      ]
     },
     "execution_count": 8,
     "metadata": {},
     "output_type": "execute_result"
    }
   ],
   "source": [
    "Feature_importance=pd.DataFrame([list(X_train.columns),list(clf.feature_importances_)]).T\n",
    "Feature_importance.columns=[\"variables\",\"importance\"]\n",
    "Feature_importance.sort_values(by=\"importance\",ascending=False).iloc[:15,:]"
   ]
  },
  {
   "cell_type": "code",
   "execution_count": null,
   "metadata": {
    "collapsed": true,
    "deletable": true,
    "editable": true
   },
   "outputs": [],
   "source": []
  }
 ],
 "metadata": {
  "anaconda-cloud": {},
  "kernelspec": {
   "display_name": "Python [default]",
   "language": "python",
   "name": "python2"
  },
  "language_info": {
   "codemirror_mode": {
    "name": "ipython",
    "version": 2
   },
   "file_extension": ".py",
   "mimetype": "text/x-python",
   "name": "python",
   "nbconvert_exporter": "python",
   "pygments_lexer": "ipython2",
   "version": "2.7.8"
  }
 },
 "nbformat": 4,
 "nbformat_minor": 2
}
