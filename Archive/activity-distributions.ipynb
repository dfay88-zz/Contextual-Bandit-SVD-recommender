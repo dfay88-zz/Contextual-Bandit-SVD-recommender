{
 "cells": [
  {
   "cell_type": "markdown",
   "metadata": {
    "deletable": true,
    "editable": true
   },
   "source": [
    "# Find Distributions of Elderly Activity by Hour\n",
    "#### Daniel Fay"
   ]
  },
  {
   "cell_type": "code",
   "execution_count": 66,
   "metadata": {
    "collapsed": true,
    "deletable": true,
    "editable": true
   },
   "outputs": [],
   "source": [
    "import pandas as pd\n",
    "import numpy as np\n",
    "import matplotlib.pyplot as plt\n",
    "import seaborn\n",
    "%matplotlib inline"
   ]
  },
  {
   "cell_type": "code",
   "execution_count": 56,
   "metadata": {
    "collapsed": true,
    "deletable": true,
    "editable": true
   },
   "outputs": [],
   "source": [
    "tripSurvey = pd.read_csv('../Data/trip_survey.csv', index_col=0)"
   ]
  },
  {
   "cell_type": "code",
   "execution_count": 57,
   "metadata": {
    "collapsed": false,
    "deletable": true,
    "editable": true
   },
   "outputs": [
    {
     "data": {
      "text/plain": [
       "Index([u'SAMPN', u'PERNO', u'PERTYPE', u'ORIG_HOME', u'DEST_HOME', u'DOW_x',\n",
       "       u'OTAZ', u'DTAZ', u'DTPURP', u'OTPURP_AGG', u'DTPURP_AGG',\n",
       "       u'LTMODE_AGG', u'TRP_DEP_HR', u'TRP_DEP_MIN', u'TRP_ARR_HR',\n",
       "       u'TRP_ARR_MIN', u'TRPDUR_R', u'ACTDUR', u'OTRACT', u'DTRACT', u'PMODE1',\n",
       "       u'PMODE_R', u'PMODE_R2', u'PMODE_R3', u'WORK_PURP', u'DTPURP_R',\n",
       "       u'ODTPURP', u'ODTPURP1', u'ODTPURP2', u'ODTPURP2_R', u'PLOC',\n",
       "       u'WORKTRIP', u'TOD_R', u'TOD_PEAK', u'TRIPDIST_R1', u'TRIPDIST_R2',\n",
       "       u'STYPE', u'CTFIP', u'INCOM_R', u'DOW_y', u'HHVEH', u'GENDER', u'AGE_R',\n",
       "       u'LIC', u'RELAT', u'RACE', u'EMPLY', u'WORKS', u'WKSTAT', u'JOBS',\n",
       "       u'WDAYS', u'INDUS', u'OCCUP', u'O_OCCUP', u'WLOC', u'WFIPS', u'WMODE',\n",
       "       u'O_WMODE', u'TTTWS', u'CDRIV', u'WSTRT', u'WEND', u'STRVR', u'ENDVR',\n",
       "       u'STUDE', u'work_flex_start', u'work_flex_end'],\n",
       "      dtype='object')"
      ]
     },
     "execution_count": 57,
     "metadata": {},
     "output_type": "execute_result"
    }
   ],
   "source": [
    "tripSurvey.columns"
   ]
  },
  {
   "cell_type": "code",
   "execution_count": 58,
   "metadata": {
    "collapsed": true,
    "deletable": true,
    "editable": true
   },
   "outputs": [],
   "source": [
    "tripSurvey = tripSurvey[['DTPURP', 'TRP_ARR_HR', 'AGE_R','OTRACT', 'DTRACT']]"
   ]
  },
  {
   "cell_type": "code",
   "execution_count": 59,
   "metadata": {
    "collapsed": false,
    "deletable": true,
    "editable": true
   },
   "outputs": [
    {
     "data": {
      "text/plain": [
       "array(['35-54 years', '19-24 years', '16-18 years',\n",
       "       'Younger than 16 years', '55-64 years', '65 years or older',\n",
       "       '25-34 years'], dtype=object)"
      ]
     },
     "execution_count": 59,
     "metadata": {},
     "output_type": "execute_result"
    }
   ],
   "source": [
    "tripSurvey.AGE_R.unique()"
   ]
  },
  {
   "cell_type": "code",
   "execution_count": 60,
   "metadata": {
    "collapsed": false,
    "deletable": true,
    "editable": true
   },
   "outputs": [
    {
     "data": {
      "text/html": [
       "<div>\n",
       "<table border=\"1\" class=\"dataframe\">\n",
       "  <thead>\n",
       "    <tr style=\"text-align: right;\">\n",
       "      <th></th>\n",
       "      <th>DTPURP</th>\n",
       "      <th>TRP_ARR_HR</th>\n",
       "      <th>AGE_R</th>\n",
       "      <th>OTRACT</th>\n",
       "      <th>DTRACT</th>\n",
       "    </tr>\n",
       "  </thead>\n",
       "  <tbody>\n",
       "    <tr>\n",
       "      <th>42</th>\n",
       "      <td>3</td>\n",
       "      <td>12.0</td>\n",
       "      <td>65 years or older</td>\n",
       "      <td>9.001205e+09</td>\n",
       "      <td>9.001200e+09</td>\n",
       "    </tr>\n",
       "    <tr>\n",
       "      <th>64</th>\n",
       "      <td>26</td>\n",
       "      <td>12.0</td>\n",
       "      <td>65 years or older</td>\n",
       "      <td>3.400302e+10</td>\n",
       "      <td>3.400302e+10</td>\n",
       "    </tr>\n",
       "    <tr>\n",
       "      <th>65</th>\n",
       "      <td>27</td>\n",
       "      <td>15.0</td>\n",
       "      <td>65 years or older</td>\n",
       "      <td>3.400302e+10</td>\n",
       "      <td>9.001030e+09</td>\n",
       "    </tr>\n",
       "    <tr>\n",
       "      <th>75</th>\n",
       "      <td>14</td>\n",
       "      <td>12.0</td>\n",
       "      <td>65 years or older</td>\n",
       "      <td>3.400302e+10</td>\n",
       "      <td>3.402301e+10</td>\n",
       "    </tr>\n",
       "    <tr>\n",
       "      <th>77</th>\n",
       "      <td>16</td>\n",
       "      <td>14.0</td>\n",
       "      <td>65 years or older</td>\n",
       "      <td>3.400302e+10</td>\n",
       "      <td>3.400301e+10</td>\n",
       "    </tr>\n",
       "  </tbody>\n",
       "</table>\n",
       "</div>"
      ],
      "text/plain": [
       "    DTPURP  TRP_ARR_HR              AGE_R        OTRACT        DTRACT\n",
       "42       3        12.0  65 years or older  9.001205e+09  9.001200e+09\n",
       "64      26        12.0  65 years or older  3.400302e+10  3.400302e+10\n",
       "65      27        15.0  65 years or older  3.400302e+10  9.001030e+09\n",
       "75      14        12.0  65 years or older  3.400302e+10  3.402301e+10\n",
       "77      16        14.0  65 years or older  3.400302e+10  3.400301e+10"
      ]
     },
     "execution_count": 60,
     "metadata": {},
     "output_type": "execute_result"
    }
   ],
   "source": [
    "tripSurvey_sen = tripSurvey.loc[tripSurvey['AGE_R'] == '65 years or older']\n",
    "tripSurvey_sen.head()"
   ]
  },
  {
   "cell_type": "code",
   "execution_count": 61,
   "metadata": {
    "collapsed": false,
    "deletable": true,
    "editable": true
   },
   "outputs": [],
   "source": [
    "tripSurvey_sen_act = tripSurvey_sen.groupby(['DTPURP']).count()\n",
    "tripSurvey_sen_act.reset_index(inplace=True)\n",
    "tripSurvey_sen_act.sort_values('TRP_ARR_HR', ascending=False, inplace=True)"
   ]
  },
  {
   "cell_type": "code",
   "execution_count": 62,
   "metadata": {
    "collapsed": false
   },
   "outputs": [
    {
     "data": {
      "text/html": [
       "<div>\n",
       "<table border=\"1\" class=\"dataframe\">\n",
       "  <thead>\n",
       "    <tr style=\"text-align: right;\">\n",
       "      <th></th>\n",
       "      <th>Count</th>\n",
       "    </tr>\n",
       "    <tr>\n",
       "      <th>Trip_Purpose</th>\n",
       "      <th></th>\n",
       "    </tr>\n",
       "  </thead>\n",
       "  <tbody>\n",
       "    <tr>\n",
       "      <th>Any Other Activities at Home</th>\n",
       "      <td>4287</td>\n",
       "    </tr>\n",
       "    <tr>\n",
       "      <th>Grocery/Food Shopping</th>\n",
       "      <td>1022</td>\n",
       "    </tr>\n",
       "    <tr>\n",
       "      <th>Other Routine Shopping</th>\n",
       "      <td>911</td>\n",
       "    </tr>\n",
       "    <tr>\n",
       "      <th>Health Care</th>\n",
       "      <td>716</td>\n",
       "    </tr>\n",
       "    <tr>\n",
       "      <th>Household Errands</th>\n",
       "      <td>659</td>\n",
       "    </tr>\n",
       "  </tbody>\n",
       "</table>\n",
       "</div>"
      ],
      "text/plain": [
       "                              Count\n",
       "Trip_Purpose                       \n",
       "Any Other Activities at Home   4287\n",
       "Grocery/Food Shopping          1022\n",
       "Other Routine Shopping          911\n",
       "Health Care                     716\n",
       "Household Errands               659"
      ]
     },
     "execution_count": 62,
     "metadata": {},
     "output_type": "execute_result"
    }
   ],
   "source": [
    "dtpurp = {1:'Working at Home (For Pay or Volunteer)', 2:'Shopping (Online, Catalog or by Phone)', 3:'Any Other Activities at Home', \\\n",
    "          4:'Change Travel Mode/Transfer', 5:'Dropped off Passenger from Car', 6:'Picked up Passenger from Car', \\\n",
    "         7:'Get Gas', 8:'Drive Through (ATM, Bank, Fast Food, etc.)', 9:'Work/Doing my Job', 10:'Other Work-Related Activities at Work', \\\n",
    "         11:'Volunteer Work/Activities', 12:'Attending Class/Studying', 13:'All Other Activities at School', 14:'Work-Related', \\\n",
    "         15:'Service Private Vehicle', 16:'Grocery/Food Shopping', 17:'Other Routine Shopping', 18:'Shopping for Major Purchases or Specialty Items', \\\n",
    "         19:'Household Errands', 20:'Personal Business', 21:'Eat Meal Out at Restaurant/Diner', 22:'Health Care', \\\n",
    "         23:'Civic or Religious Activities', 24:'Outdoor Recreation', 25:'Indoor Recreation', 26:'Entertainment', \\\n",
    "         27:'Social/Visit Friends/Relatives', 28:'Airport - Business', 29:'Airport - Personal', 96:'Loop Trip', 97:'Other (Specify)'}\n",
    "tripSurvey_sen_act.DTPURP.replace(dtpurp, inplace=True)\n",
    "tripSurvey_sen_act = tripSurvey_sen_act[['DTPURP','AGE_R']]\n",
    "tripSurvey_sen_act.columns = ['Trip_Purpose', 'Count']\n",
    "tripSurvey_sen_act.set_index('Trip_Purpose', inplace=True)\n",
    "tripSurvey_sen_act.head()"
   ]
  },
  {
   "cell_type": "code",
   "execution_count": 67,
   "metadata": {
    "collapsed": false
   },
   "outputs": [
    {
     "data": {
      "text/plain": [
       "<matplotlib.text.Text at 0x115b63750>"
      ]
     },
     "execution_count": 67,
     "metadata": {},
     "output_type": "execute_result"
    },
    {
     "data": {
      "image/png": "[encoded data removed]",
      "text/plain": [
       "<matplotlib.figure.Figure at 0x1159cb090>"
      ]
     },
     "metadata": {},
     "output_type": "display_data"
    }
   ],
   "source": [
    "fig, ax = plt.subplots(figsize = (10,6))\n",
    "tripSurvey_sen_act.head(10).sort_values('Count').plot.barh(fontsize=11, ax=ax)\n",
    "ax.set_title('Top 10 Trip Purposes for Seniors (65+)', fontsize=18)\n",
    "ax.set_ylabel('Trip Purpose', fontsize=14)"
   ]
  },
  {
   "cell_type": "code",
   "execution_count": null,
   "metadata": {
    "collapsed": true
   },
   "outputs": [],
   "source": []
  }
 ],
 "metadata": {
  "anaconda-cloud": {},
  "kernelspec": {
   "display_name": "Python [default]",
   "language": "python",
   "name": "python2"
  },
  "language_info": {
   "codemirror_mode": {
    "name": "ipython",
    "version": 2
   },
   "file_extension": ".py",
   "mimetype": "text/x-python",
   "name": "python",
   "nbconvert_exporter": "python",
   "pygments_lexer": "ipython2",
   "version": "2.7.8"
  }
 },
 "nbformat": 4,
 "nbformat_minor": 2
}
