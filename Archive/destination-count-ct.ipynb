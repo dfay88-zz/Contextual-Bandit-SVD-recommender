{
 "cells": [
  {
   "cell_type": "markdown",
   "metadata": {
    "deletable": true,
    "editable": true
   },
   "source": [
    "# Elderly Historical Destination Count\n",
    "#### Daniel Fay"
   ]
  },
  {
   "cell_type": "code",
   "execution_count": 135,
   "metadata": {
    "collapsed": false,
    "deletable": true,
    "editable": true
   },
   "outputs": [],
   "source": [
    "# Import necessary packages\n",
    "import pandas as pd\n",
    "import geopandas as gpd\n",
    "import numpy as np"
   ]
  },
  {
   "cell_type": "code",
   "execution_count": 136,
   "metadata": {
    "collapsed": false,
    "deletable": true,
    "editable": true
   },
   "outputs": [
    {
     "data": {
      "text/html": [
       "<div>\n",
       "<table border=\"1\" class=\"dataframe\">\n",
       "  <thead>\n",
       "    <tr style=\"text-align: right;\">\n",
       "      <th></th>\n",
       "      <th>SAMPN</th>\n",
       "      <th>PERNO</th>\n",
       "      <th>PERTYPE</th>\n",
       "      <th>ORIG_HOME</th>\n",
       "      <th>DEST_HOME</th>\n",
       "      <th>DOW_x</th>\n",
       "      <th>OTAZ</th>\n",
       "      <th>DTAZ</th>\n",
       "      <th>OTPURP_AGG</th>\n",
       "      <th>DTPURP_AGG</th>\n",
       "      <th>...</th>\n",
       "      <th>CDRIV</th>\n",
       "      <th>WSTRT</th>\n",
       "      <th>WEND</th>\n",
       "      <th>STRVR</th>\n",
       "      <th>ENDVR</th>\n",
       "      <th>STUDE</th>\n",
       "      <th>TAZ_ID1</th>\n",
       "      <th>geometry</th>\n",
       "      <th>work_flex_start</th>\n",
       "      <th>work_flex_end</th>\n",
       "    </tr>\n",
       "  </thead>\n",
       "  <tbody>\n",
       "    <tr>\n",
       "      <th>0</th>\n",
       "      <td>3000056</td>\n",
       "      <td>1</td>\n",
       "      <td>2</td>\n",
       "      <td>1</td>\n",
       "      <td>0</td>\n",
       "      <td>3.0</td>\n",
       "      <td>2626</td>\n",
       "      <td>2627</td>\n",
       "      <td>0</td>\n",
       "      <td>9</td>\n",
       "      <td>...</td>\n",
       "      <td>No</td>\n",
       "      <td>100</td>\n",
       "      <td>300</td>\n",
       "      <td>Start Time Cannot Vary</td>\n",
       "      <td>16 to 30 Minutes</td>\n",
       "      <td>No</td>\n",
       "      <td>2626.0</td>\n",
       "      <td>POLYGON ((-73.4243 41.4551, -73.42529999999999...</td>\n",
       "      <td>0</td>\n",
       "      <td>1</td>\n",
       "    </tr>\n",
       "    <tr>\n",
       "      <th>1</th>\n",
       "      <td>3000056</td>\n",
       "      <td>1</td>\n",
       "      <td>2</td>\n",
       "      <td>1</td>\n",
       "      <td>0</td>\n",
       "      <td>3.0</td>\n",
       "      <td>2626</td>\n",
       "      <td>2627</td>\n",
       "      <td>0</td>\n",
       "      <td>1</td>\n",
       "      <td>...</td>\n",
       "      <td>No</td>\n",
       "      <td>100</td>\n",
       "      <td>300</td>\n",
       "      <td>Start Time Cannot Vary</td>\n",
       "      <td>16 to 30 Minutes</td>\n",
       "      <td>No</td>\n",
       "      <td>2626.0</td>\n",
       "      <td>POLYGON ((-73.4243 41.4551, -73.42529999999999...</td>\n",
       "      <td>0</td>\n",
       "      <td>1</td>\n",
       "    </tr>\n",
       "    <tr>\n",
       "      <th>2</th>\n",
       "      <td>3000056</td>\n",
       "      <td>1</td>\n",
       "      <td>2</td>\n",
       "      <td>1</td>\n",
       "      <td>0</td>\n",
       "      <td>3.0</td>\n",
       "      <td>2626</td>\n",
       "      <td>2628</td>\n",
       "      <td>0</td>\n",
       "      <td>9</td>\n",
       "      <td>...</td>\n",
       "      <td>No</td>\n",
       "      <td>100</td>\n",
       "      <td>300</td>\n",
       "      <td>Start Time Cannot Vary</td>\n",
       "      <td>16 to 30 Minutes</td>\n",
       "      <td>No</td>\n",
       "      <td>2626.0</td>\n",
       "      <td>POLYGON ((-73.4243 41.4551, -73.42529999999999...</td>\n",
       "      <td>0</td>\n",
       "      <td>1</td>\n",
       "    </tr>\n",
       "    <tr>\n",
       "      <th>3</th>\n",
       "      <td>3000056</td>\n",
       "      <td>2</td>\n",
       "      <td>1</td>\n",
       "      <td>1</td>\n",
       "      <td>0</td>\n",
       "      <td>3.0</td>\n",
       "      <td>2626</td>\n",
       "      <td>2676</td>\n",
       "      <td>0</td>\n",
       "      <td>1</td>\n",
       "      <td>...</td>\n",
       "      <td>No</td>\n",
       "      <td>730</td>\n",
       "      <td>1900</td>\n",
       "      <td>Within 15 Minutes or Less</td>\n",
       "      <td>More than 1 Hour</td>\n",
       "      <td>No</td>\n",
       "      <td>2626.0</td>\n",
       "      <td>POLYGON ((-73.4243 41.4551, -73.42529999999999...</td>\n",
       "      <td>0</td>\n",
       "      <td>1</td>\n",
       "    </tr>\n",
       "    <tr>\n",
       "      <th>4</th>\n",
       "      <td>3000056</td>\n",
       "      <td>3</td>\n",
       "      <td>3</td>\n",
       "      <td>1</td>\n",
       "      <td>0</td>\n",
       "      <td>3.0</td>\n",
       "      <td>2626</td>\n",
       "      <td>2627</td>\n",
       "      <td>0</td>\n",
       "      <td>8</td>\n",
       "      <td>...</td>\n",
       "      <td>No</td>\n",
       "      <td>1800</td>\n",
       "      <td>2330</td>\n",
       "      <td>More than 1 Hour</td>\n",
       "      <td>More than 1 Hour</td>\n",
       "      <td>Yes - Full Time</td>\n",
       "      <td>2626.0</td>\n",
       "      <td>POLYGON ((-73.4243 41.4551, -73.42529999999999...</td>\n",
       "      <td>1</td>\n",
       "      <td>1</td>\n",
       "    </tr>\n",
       "  </tbody>\n",
       "</table>\n",
       "<p>5 rows × 68 columns</p>\n",
       "</div>"
      ],
      "text/plain": [
       "     SAMPN  PERNO  PERTYPE  ORIG_HOME  DEST_HOME  DOW_x  OTAZ  DTAZ  \\\n",
       "0  3000056      1        2          1          0    3.0  2626  2627   \n",
       "1  3000056      1        2          1          0    3.0  2626  2627   \n",
       "2  3000056      1        2          1          0    3.0  2626  2628   \n",
       "3  3000056      2        1          1          0    3.0  2626  2676   \n",
       "4  3000056      3        3          1          0    3.0  2626  2627   \n",
       "\n",
       "   OTPURP_AGG  DTPURP_AGG      ...        CDRIV  WSTRT  WEND  \\\n",
       "0           0           9      ...           No    100   300   \n",
       "1           0           1      ...           No    100   300   \n",
       "2           0           9      ...           No    100   300   \n",
       "3           0           1      ...           No    730  1900   \n",
       "4           0           8      ...           No   1800  2330   \n",
       "\n",
       "                       STRVR             ENDVR            STUDE  TAZ_ID1  \\\n",
       "0     Start Time Cannot Vary  16 to 30 Minutes               No   2626.0   \n",
       "1     Start Time Cannot Vary  16 to 30 Minutes               No   2626.0   \n",
       "2     Start Time Cannot Vary  16 to 30 Minutes               No   2626.0   \n",
       "3  Within 15 Minutes or Less  More than 1 Hour               No   2626.0   \n",
       "4           More than 1 Hour  More than 1 Hour  Yes - Full Time   2626.0   \n",
       "\n",
       "                                            geometry  work_flex_start  \\\n",
       "0  POLYGON ((-73.4243 41.4551, -73.42529999999999...                0   \n",
       "1  POLYGON ((-73.4243 41.4551, -73.42529999999999...                0   \n",
       "2  POLYGON ((-73.4243 41.4551, -73.42529999999999...                0   \n",
       "3  POLYGON ((-73.4243 41.4551, -73.42529999999999...                0   \n",
       "4  POLYGON ((-73.4243 41.4551, -73.42529999999999...                1   \n",
       "\n",
       "   work_flex_end  \n",
       "0              1  \n",
       "1              1  \n",
       "2              1  \n",
       "3              1  \n",
       "4              1  \n",
       "\n",
       "[5 rows x 68 columns]"
      ]
     },
     "execution_count": 136,
     "metadata": {},
     "output_type": "execute_result"
    }
   ],
   "source": [
    "# Load data\n",
    "trip_survey = pd.read_csv('../../fm-lm-demand-simulation/data/processed/trip_survey_working_shape.csv', index_col=0)\n",
    "trip_survey = gpd.GeoDataFrame(trip_survey)\n",
    "trip_survey.head()"
   ]
  },
  {
   "cell_type": "code",
   "execution_count": 137,
   "metadata": {
    "collapsed": false,
    "deletable": true,
    "editable": true
   },
   "outputs": [],
   "source": [
    "# Load census tracts\n",
    "census_tracts = gpd.read_file('../../fm-lm-demand-simulation/data/external/NYMTC_BPM_TAZ2010_CT2010/BPM_CT2010.shp')\n",
    "census_tracts = census_tracts[['GEOID10', 'geometry']]\n"
   ]
  },
  {
   "cell_type": "code",
   "execution_count": 138,
   "metadata": {
    "collapsed": false,
    "deletable": true,
    "editable": true
   },
   "outputs": [
    {
     "data": {
      "text/plain": [
       "38314"
      ]
     },
     "execution_count": 138,
     "metadata": {},
     "output_type": "execute_result"
    }
   ],
   "source": [
    "# Select only elderly samples\n",
    "trip_survey_elderly = trip_survey.loc[trip_survey['AGE_R'] == '55+']\n",
    "len(trip_survey_elderly)"
   ]
  },
  {
   "cell_type": "code",
   "execution_count": 139,
   "metadata": {
    "collapsed": false,
    "deletable": true,
    "editable": true
   },
   "outputs": [
    {
     "data": {
      "text/html": [
       "<div>\n",
       "<table border=\"1\" class=\"dataframe\">\n",
       "  <thead>\n",
       "    <tr style=\"text-align: right;\">\n",
       "      <th></th>\n",
       "      <th>DTRACT</th>\n",
       "      <th>Count</th>\n",
       "    </tr>\n",
       "  </thead>\n",
       "  <tbody>\n",
       "    <tr>\n",
       "      <th>0</th>\n",
       "      <td>00000000000</td>\n",
       "      <td>1</td>\n",
       "    </tr>\n",
       "    <tr>\n",
       "      <th>1</th>\n",
       "      <td>09001010102</td>\n",
       "      <td>2</td>\n",
       "    </tr>\n",
       "    <tr>\n",
       "      <th>2</th>\n",
       "      <td>09001010201</td>\n",
       "      <td>2</td>\n",
       "    </tr>\n",
       "    <tr>\n",
       "      <th>3</th>\n",
       "      <td>09001010202</td>\n",
       "      <td>7</td>\n",
       "    </tr>\n",
       "    <tr>\n",
       "      <th>4</th>\n",
       "      <td>09001010300</td>\n",
       "      <td>5</td>\n",
       "    </tr>\n",
       "  </tbody>\n",
       "</table>\n",
       "</div>"
      ],
      "text/plain": [
       "        DTRACT  Count\n",
       "0  00000000000      1\n",
       "1  09001010102      2\n",
       "2  09001010201      2\n",
       "3  09001010202      7\n",
       "4  09001010300      5"
      ]
     },
     "execution_count": 139,
     "metadata": {},
     "output_type": "execute_result"
    }
   ],
   "source": [
    "# Find count of each destination\n",
    "elderly_dest_count = trip_survey_elderly.groupby('DTRACT').count()\n",
    "elderly_dest_count = elderly_dest_count[['SAMPN']]\n",
    "elderly_dest_count.columns = ['Count']\n",
    "elderly_dest_count.reset_index(inplace=True)\n",
    "elderly_dest_count.DTRACT = elderly_dest_count.DTRACT.astype(int)\n",
    "elderly_dest_count.DTRACT = elderly_dest_count.DTRACT.astype(str)\n",
    "elderly_dest_count.DTRACT = elderly_dest_count.DTRACT.apply(lambda x: x.zfill(11))\n",
    "elderly_dest_count.head()"
   ]
  },
  {
   "cell_type": "code",
   "execution_count": 140,
   "metadata": {
    "collapsed": false,
    "deletable": true,
    "editable": true
   },
   "outputs": [
    {
     "data": {
      "text/plain": [
       "4322"
      ]
     },
     "execution_count": 140,
     "metadata": {},
     "output_type": "execute_result"
    }
   ],
   "source": [
    "len(elderly_dest_count)"
   ]
  },
  {
   "cell_type": "code",
   "execution_count": 141,
   "metadata": {
    "collapsed": false,
    "deletable": true,
    "editable": true
   },
   "outputs": [
    {
     "data": {
      "text/plain": [
       "4148"
      ]
     },
     "execution_count": 141,
     "metadata": {},
     "output_type": "execute_result"
    }
   ],
   "source": [
    "# Merge in geometry\n",
    "elderly_dest_count = pd.merge(elderly_dest_count, census_tracts, left_on='DTRACT', right_on='GEOID10')\n",
    "len(elderly_dest_count)"
   ]
  },
  {
   "cell_type": "code",
   "execution_count": 143,
   "metadata": {
    "collapsed": false,
    "deletable": true,
    "editable": true,
    "scrolled": true
   },
   "outputs": [
    {
     "data": {
      "text/html": [
       "<div>\n",
       "<table border=\"1\" class=\"dataframe\">\n",
       "  <thead>\n",
       "    <tr style=\"text-align: right;\">\n",
       "      <th></th>\n",
       "      <th>DTRACT</th>\n",
       "      <th>Count</th>\n",
       "      <th>geometry</th>\n",
       "    </tr>\n",
       "  </thead>\n",
       "  <tbody>\n",
       "    <tr>\n",
       "      <th>0</th>\n",
       "      <td>09001010102</td>\n",
       "      <td>2</td>\n",
       "      <td>POLYGON ((-73.599163 41.09901800000002, -73.59...</td>\n",
       "    </tr>\n",
       "    <tr>\n",
       "      <th>1</th>\n",
       "      <td>09001010201</td>\n",
       "      <td>2</td>\n",
       "      <td>POLYGON ((-73.60366500000001 41.07464400000001...</td>\n",
       "    </tr>\n",
       "    <tr>\n",
       "      <th>2</th>\n",
       "      <td>09001010202</td>\n",
       "      <td>7</td>\n",
       "      <td>POLYGON ((-73.568271 41.05947400000001, -73.56...</td>\n",
       "    </tr>\n",
       "    <tr>\n",
       "      <th>3</th>\n",
       "      <td>09001010300</td>\n",
       "      <td>5</td>\n",
       "      <td>POLYGON ((-73.61725400000002 41.03698699999998...</td>\n",
       "    </tr>\n",
       "    <tr>\n",
       "      <th>4</th>\n",
       "      <td>09001010500</td>\n",
       "      <td>11</td>\n",
       "      <td>POLYGON ((-73.62720400000003 41.02118000000004...</td>\n",
       "    </tr>\n",
       "  </tbody>\n",
       "</table>\n",
       "</div>"
      ],
      "text/plain": [
       "        DTRACT  Count                                           geometry\n",
       "0  09001010102      2  POLYGON ((-73.599163 41.09901800000002, -73.59...\n",
       "1  09001010201      2  POLYGON ((-73.60366500000001 41.07464400000001...\n",
       "2  09001010202      7  POLYGON ((-73.568271 41.05947400000001, -73.56...\n",
       "3  09001010300      5  POLYGON ((-73.61725400000002 41.03698699999998...\n",
       "4  09001010500     11  POLYGON ((-73.62720400000003 41.02118000000004..."
      ]
     },
     "execution_count": 143,
     "metadata": {},
     "output_type": "execute_result"
    }
   ],
   "source": [
    "elderly_dest_count = elderly_dest_count[['DTRACT', 'Count', 'geometry']]\n",
    "elderly_dest_count.head()"
   ]
  },
  {
   "cell_type": "code",
   "execution_count": 148,
   "metadata": {
    "collapsed": false,
    "deletable": true,
    "editable": true
   },
   "outputs": [],
   "source": [
    "elderly_dest_count = gpd.GeoDataFrame(elderly_dest_count)"
   ]
  },
  {
   "cell_type": "code",
   "execution_count": 149,
   "metadata": {
    "collapsed": true,
    "deletable": true,
    "editable": true
   },
   "outputs": [],
   "source": [
    "nyc = gpd.read_file('../Data/shapefiles/nybb.shp')"
   ]
  },
  {
   "cell_type": "code",
   "execution_count": 157,
   "metadata": {
    "collapsed": false,
    "deletable": true,
    "editable": true
   },
   "outputs": [
    {
     "data": {
      "text/plain": [
       "{'init': 'epsg:4326'}"
      ]
     },
     "execution_count": 157,
     "metadata": {},
     "output_type": "execute_result"
    }
   ],
   "source": [
    "elderly_dest_count.crs = {'init' :'epsg:4326'}\n",
    "elderly_dest_count.crs"
   ]
  },
  {
   "cell_type": "code",
   "execution_count": 159,
   "metadata": {
    "collapsed": false,
    "deletable": true,
    "editable": true
   },
   "outputs": [],
   "source": [
    "nyc = nyc.to_crs({'init' :'epsg:4326'})"
   ]
  },
  {
   "cell_type": "code",
   "execution_count": 160,
   "metadata": {
    "collapsed": false,
    "deletable": true,
    "editable": true
   },
   "outputs": [],
   "source": [
    "elderly_dest_count_nyc = gpd.sjoin(elderly_dest_count, nyc, op='within')"
   ]
  },
  {
   "cell_type": "code",
   "execution_count": 162,
   "metadata": {
    "collapsed": true,
    "deletable": true,
    "editable": true
   },
   "outputs": [],
   "source": [
    "elderly_dest_count_nyc.to_file('../Data/shapefiles/elderly_dest_count.shp')"
   ]
  },
  {
   "cell_type": "code",
   "execution_count": null,
   "metadata": {
    "collapsed": true,
    "deletable": true,
    "editable": true
   },
   "outputs": [],
   "source": []
  }
 ],
 "metadata": {
  "anaconda-cloud": {},
  "kernelspec": {
   "display_name": "Python [default]",
   "language": "python",
   "name": "python2"
  },
  "language_info": {
   "codemirror_mode": {
    "name": "ipython",
    "version": 2
   },
   "file_extension": ".py",
   "mimetype": "text/x-python",
   "name": "python",
   "nbconvert_exporter": "python",
   "pygments_lexer": "ipython2",
   "version": "2.7.8"
  }
 },
 "nbformat": 4,
 "nbformat_minor": 2
}
